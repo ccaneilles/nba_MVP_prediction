{
 "cells": [
  {
   "cell_type": "code",
   "execution_count": 90,
   "metadata": {},
   "outputs": [],
   "source": [
    "import numpy as np\n",
    "import pandas as pd\n",
    "import matplotlib.pyplot as plt\n",
    "import seaborn as sns"
   ]
  },
  {
   "cell_type": "markdown",
   "metadata": {},
   "source": [
    "# **Predicting NBA 2021-22 MVP**"
   ]
  },
  {
   "cell_type": "markdown",
   "metadata": {},
   "source": [
    "##      **I. Data preprocessing**"
   ]
  },
  {
   "cell_type": "code",
   "execution_count": 91,
   "metadata": {},
   "outputs": [],
   "source": [
    "unusefull_columns = [\n",
    "    'Team',\n",
    "    'G',             \n",
    "    'GS',               #Game started, partialy filled\n",
    "    'FG',               #Sum of 2P and 3P\n",
    "    'FGA',              #Sum of 2PA and 3PA\n",
    "    'FG%',              #Depending of 2P% and 3P%\n",
    "    '2PA',              #Depending of 2P and 2P%\n",
    "    '3PA',              #Depending of 3P and 3P%\n",
    "    'FTA',              #Depending of FT and FT%\n",
    "    'TRB',              #Sum of ORB and DRB\n",
    "    'Decade',           #Unusefull\n",
    "    'Trade',            #Filled by False, only players that haven't been\n",
    "                        #traded during the season can pretend to the award\n",
    "    'MPTot',            #Depending of number of match during the season\n",
    "    'W',                #Idem\n",
    "    'L'                 #Idem\n",
    "]"
   ]
  },
  {
   "cell_type": "code",
   "execution_count": 92,
   "metadata": {},
   "outputs": [],
   "source": [
    "#Numeric types of columns\n",
    "numerics = ['int16', 'int32', 'int64', 'float16', 'float32', 'float64', 'bool']"
   ]
  },
  {
   "cell_type": "code",
   "execution_count": 93,
   "metadata": {},
   "outputs": [],
   "source": [
    "#Imports\n",
    "dataset = pd.read_csv('./../data/global.csv').drop(columns=unusefull_columns)\n",
    "\n",
    "data_22 = pd.read_csv('./../data/2022.csv').drop(columns = [col for col in unusefull_columns if col in pd.read_csv('./../data/2022.csv').columns])"
   ]
  },
  {
   "cell_type": "code",
   "execution_count": 94,
   "metadata": {},
   "outputs": [],
   "source": [
    "Pos = []\n",
    "for pos in dataset.Pos.values :\n",
    "    Pos.append(pos.split(\"-\")[0])\n",
    "\n",
    "dataset.Pos = Pos"
   ]
  },
  {
   "cell_type": "code",
   "execution_count": 95,
   "metadata": {},
   "outputs": [],
   "source": [
    "''''Dealing with columns dtypes'''\n",
    "\n",
    "col_cat = ['Pos', 'Season', 'Player','Tm']\n",
    "\n",
    "col_int = ['Age', 'GB', 'GBC', 'Ranking_Conf', 'Ranking_League','ShareYN', 'Playoffs', 'MVP','PastMVP']\n",
    "\n",
    "for column in dataset.columns :\n",
    "    if column not in col_cat and column not in col_int :\n",
    "        dataset[column] = dataset[column].astype(float)\n",
    "    elif column in col_int :\n",
    "        dataset[column] = dataset[column].astype(int)"
   ]
  },
  {
   "cell_type": "markdown",
   "metadata": {},
   "source": [
    "### ***1. Scaling of numerical features***"
   ]
  },
  {
   "cell_type": "markdown",
   "metadata": {},
   "source": [
    "#### **a. Historical seasons dataset**"
   ]
  },
  {
   "cell_type": "markdown",
   "metadata": {},
   "source": [
    "The aim is to compared each MVP races. So we have to adapt our scaling method and scaled every season regardless from the other. (scaling one season after another)"
   ]
  },
  {
   "cell_type": "code",
   "execution_count": 96,
   "metadata": {},
   "outputs": [],
   "source": [
    "'''Scaling'''\n",
    "\n",
    "from sklearn.preprocessing import StandardScaler\n",
    "\n",
    "sc = StandardScaler()\n",
    "\n",
    "#Float columns\n",
    "float_columns = ['float16', 'float32', 'float64']\n",
    "\n",
    "#Columns to scale\n",
    "columns_scale = list(dataset.select_dtypes(include=float_columns).columns)\n",
    "\n",
    "#This is the only float column type that we don't want to scale\n",
    "columns_scale.remove('MVP_share')\n",
    "\n",
    "def season_scaler(df, season) :\n",
    "    \n",
    "    df_season = df[df.Season == season]\n",
    "    for column in columns_scale :\n",
    "        data = np.transpose(np.array([df_season[column].values]))\n",
    "        scaled_data = sc.fit_transform(data)\n",
    "        df_season[column] = list(scaled_data.transpose()[0])\n",
    "\n",
    "    return df_season"
   ]
  },
  {
   "cell_type": "code",
   "execution_count": 97,
   "metadata": {},
   "outputs": [],
   "source": [
    "'''2nd part of scaling'''\n",
    "\n",
    "pd.options.mode.chained_assignment = None\n",
    "\n",
    "#Empty dataset that is going to be filled by scaled 'seasons'\n",
    "dataset_scaled = pd.DataFrame(columns=dataset.columns)\n",
    "\n",
    "#Looping through seasons\n",
    "for season in set(dataset.Season.values) :\n",
    "\n",
    "    #Adding season scaled dataset to global scaled dtaset\n",
    "    dataset_scaled = dataset_scaled.append(season_scaler(dataset, season), ignore_index=True)"
   ]
  },
  {
   "cell_type": "markdown",
   "metadata": {},
   "source": [
    "#### **b. 2021-2022 dataset**"
   ]
  },
  {
   "cell_type": "code",
   "execution_count": 98,
   "metadata": {},
   "outputs": [],
   "source": [
    "data_22_scaled = season_scaler(data_22, '2021-2022')"
   ]
  },
  {
   "cell_type": "markdown",
   "metadata": {},
   "source": [
    "### ***2. Encoding the column `Pos` (postion played by the player)***"
   ]
  },
  {
   "cell_type": "markdown",
   "metadata": {},
   "source": [
    "#### **a. Historical seasons dataset**"
   ]
  },
  {
   "cell_type": "code",
   "execution_count": 99,
   "metadata": {},
   "outputs": [],
   "source": [
    "from sklearn.compose import ColumnTransformer\n",
    "from sklearn.preprocessing import OneHotEncoder\n",
    "\n",
    "ct = ColumnTransformer(transformers=[('encoder', OneHotEncoder(), ['Pos'])] , remainder='passthrough')\n",
    "\n",
    "dataset_scaled  = ct.fit_transform(dataset_scaled)\n",
    "\n",
    "l = ct.get_feature_names_out(input_features=None)\n",
    "\n",
    "l = [elt.split(\"__\")[1] for elt in l]"
   ]
  },
  {
   "cell_type": "code",
   "execution_count": 100,
   "metadata": {},
   "outputs": [],
   "source": [
    "dataset_scaled = pd.DataFrame(dataset_scaled)"
   ]
  },
  {
   "cell_type": "code",
   "execution_count": 101,
   "metadata": {},
   "outputs": [],
   "source": [
    "dic_columns = {}\n",
    "\n",
    "for col in dataset_scaled.columns :\n",
    "    dic_columns[col] = l[int(col)]"
   ]
  },
  {
   "cell_type": "code",
   "execution_count": 102,
   "metadata": {},
   "outputs": [],
   "source": [
    "dataset_scaled.rename(columns = dic_columns, inplace = True)"
   ]
  },
  {
   "cell_type": "code",
   "execution_count": 103,
   "metadata": {},
   "outputs": [],
   "source": [
    "dataset_scaled.drop(columns = ['Pos_C'], inplace = True)"
   ]
  },
  {
   "cell_type": "markdown",
   "metadata": {},
   "source": [
    "#### **b. 2021-2022 dataset**"
   ]
  },
  {
   "cell_type": "code",
   "execution_count": 104,
   "metadata": {},
   "outputs": [],
   "source": [
    "data_22_scaled = ct.fit_transform(data_22_scaled)\n",
    "\n",
    "l = ct.get_feature_names_out(input_features=None)\n",
    "\n",
    "l = [elt.split(\"__\")[1] for elt in l]"
   ]
  },
  {
   "cell_type": "code",
   "execution_count": 105,
   "metadata": {},
   "outputs": [],
   "source": [
    "data_22_scaled = pd.DataFrame(data_22_scaled)"
   ]
  },
  {
   "cell_type": "code",
   "execution_count": 106,
   "metadata": {},
   "outputs": [],
   "source": [
    "dic_columns = {}\n",
    "\n",
    "for col in data_22_scaled.columns :\n",
    "    dic_columns[col] = l[int(col)]"
   ]
  },
  {
   "cell_type": "code",
   "execution_count": 107,
   "metadata": {},
   "outputs": [],
   "source": [
    "data_22_scaled.rename(columns = dic_columns, inplace = True)"
   ]
  },
  {
   "cell_type": "code",
   "execution_count": 108,
   "metadata": {},
   "outputs": [],
   "source": [
    "data_22_scaled.drop(columns = ['Pos_C'], inplace = True)"
   ]
  },
  {
   "cell_type": "markdown",
   "metadata": {},
   "source": [
    "##      **II. Predicting the eligibility**"
   ]
  },
  {
   "cell_type": "markdown",
   "metadata": {},
   "source": [
    "Our first problem is a classification problem: **Will the player receive votes or not?** (label `ShareYN`)"
   ]
  },
  {
   "cell_type": "code",
   "execution_count": 109,
   "metadata": {},
   "outputs": [],
   "source": [
    "data_classif = dataset_scaled.drop(columns=['MVP', 'MVP_share'])\n",
    "\n",
    "#We create a copy of our global dataset without the columns MVP (boolean column) and MVP_share (share of votes that the player received)"
   ]
  },
  {
   "cell_type": "markdown",
   "metadata": {},
   "source": [
    "### ***1. Dimension dowsizing***"
   ]
  },
  {
   "cell_type": "markdown",
   "metadata": {},
   "source": [
    "##### **a. Separation between features and labels**"
   ]
  },
  {
   "cell_type": "code",
   "execution_count": 110,
   "metadata": {},
   "outputs": [],
   "source": [
    "Player_c = data_classif[['Player', 'Season','Tm']]\n",
    "X_c = data_classif.drop(columns=['Player', 'Season','Tm','ShareYN'])\n",
    "y_c = data_classif.ShareYN"
   ]
  },
  {
   "cell_type": "code",
   "execution_count": 111,
   "metadata": {},
   "outputs": [],
   "source": [
    "X_train_c = X_c.sample(frac=0.8).sort_index()\n",
    "X_test_c = X_c.drop(X_train_c.index).sort_index()\n",
    "\n",
    "Player_train_c = Player_c.iloc[list(X_train_c.index),:].sort_index()\n",
    "Player_test_c = Player_c.drop(X_train_c.index).sort_index()\n",
    "\n",
    "y_train_c = y_c[X_train_c.index].sort_index()\n",
    "y_test_c = y_c.drop(X_train_c.index).sort_index()"
   ]
  },
  {
   "cell_type": "markdown",
   "metadata": {},
   "source": [
    "#### **b. Puting the data in the right format**"
   ]
  },
  {
   "cell_type": "code",
   "execution_count": 112,
   "metadata": {},
   "outputs": [],
   "source": [
    "for col in list(X_train_c.columns)[:5] :\n",
    "    X_train_c[col] = X_train_c[col].astype(bool)\n",
    "    X_test_c[col] = X_test_c[col].astype(bool)"
   ]
  },
  {
   "cell_type": "code",
   "execution_count": 113,
   "metadata": {},
   "outputs": [],
   "source": [
    "y_train_c = y_train_c.astype(bool)\n",
    "y_test_c = y_test_c.astype(bool)"
   ]
  },
  {
   "cell_type": "markdown",
   "metadata": {},
   "source": [
    "#### **c. Cross Validation**"
   ]
  },
  {
   "cell_type": "markdown",
   "metadata": {},
   "source": [
    "##### *1. First naive method*"
   ]
  },
  {
   "cell_type": "markdown",
   "metadata": {},
   "source": [
    "For our cross validation we choose a Ridge classifier and we have made vary the `alpha` coefficient."
   ]
  },
  {
   "cell_type": "code",
   "execution_count": 114,
   "metadata": {},
   "outputs": [
    {
     "data": {
      "text/plain": [
       "{'mean_fit_time': array([0.06221275, 0.06750278, 0.05773029]),\n",
       " 'std_fit_time': array([0.00184591, 0.00303551, 0.00306052]),\n",
       " 'mean_score_time': array([0.01613936, 0.01850696, 0.0167161 ]),\n",
       " 'std_score_time': array([0.00196573, 0.0025292 , 0.00214652]),\n",
       " 'param_alpha': masked_array(data=[0.01, 1.0, 10.0],\n",
       "              mask=[False, False, False],\n",
       "        fill_value='?',\n",
       "             dtype=object),\n",
       " 'params': [{'alpha': 0.01}, {'alpha': 1.0}, {'alpha': 10.0}],\n",
       " 'split0_test_score': array([0.97501983, 0.97541634, 0.97541634]),\n",
       " 'split1_test_score': array([0.97383029, 0.97462331, 0.97462331]),\n",
       " 'split2_test_score': array([0.97105472, 0.97105472, 0.97105472]),\n",
       " 'split3_test_score': array([0.97105472, 0.97065821, 0.9702617 ]),\n",
       " 'split4_test_score': array([0.97383029, 0.97383029, 0.97343378]),\n",
       " 'mean_test_score': array([0.97295797, 0.97311657, 0.97295797]),\n",
       " 'std_test_score': array([0.00161356, 0.00191642, 0.00199678]),\n",
       " 'rank_test_score': array([2, 1, 2], dtype=int32)}"
      ]
     },
     "execution_count": 114,
     "metadata": {},
     "output_type": "execute_result"
    }
   ],
   "source": [
    "from sklearn import linear_model\n",
    "from sklearn.model_selection import GridSearchCV\n",
    "\n",
    "clf_ridge = linear_model.RidgeClassifier()\n",
    "\n",
    "clf_unblced = GridSearchCV(clf_ridge, {'alpha' : np.array([0.01,1,10])})\n",
    "\n",
    "clf_unblced.fit(X_train_c.fillna(0), y_train_c)\n",
    "\n",
    "clf_unblced.cv_results_"
   ]
  },
  {
   "cell_type": "markdown",
   "metadata": {},
   "source": [
    "We see that whatever the value of the alpha parameter, our predictor obtains the same score."
   ]
  },
  {
   "cell_type": "code",
   "execution_count": 115,
   "metadata": {},
   "outputs": [
    {
     "data": {
      "text/plain": [
       "False    12069\n",
       "True       541\n",
       "Name: ShareYN, dtype: int64"
      ]
     },
     "execution_count": 115,
     "metadata": {},
     "output_type": "execute_result"
    }
   ],
   "source": [
    "y_train_c.value_counts()"
   ]
  },
  {
   "cell_type": "markdown",
   "metadata": {},
   "source": [
    "After this test we see that our dataset is unbalanced. Indeed there is a ratio higher than 20 between the two labels. So we have to balance our dataset."
   ]
  },
  {
   "cell_type": "markdown",
   "metadata": {},
   "source": [
    "##### *2. Dealing with unbalanced dataset*"
   ]
  },
  {
   "cell_type": "markdown",
   "metadata": {},
   "source": [
    "To tackle the unbalanced dataset issue, we will use an oversampling method."
   ]
  },
  {
   "cell_type": "code",
   "execution_count": 116,
   "metadata": {},
   "outputs": [],
   "source": [
    "from imblearn.over_sampling import RandomOverSampler\n",
    "\n",
    "oversample = RandomOverSampler(sampling_strategy ='minority')"
   ]
  },
  {
   "cell_type": "code",
   "execution_count": 117,
   "metadata": {},
   "outputs": [],
   "source": [
    "X_over_c, y_over_c = oversample.fit_resample(X_train_c, y_train_c)"
   ]
  },
  {
   "cell_type": "code",
   "execution_count": 118,
   "metadata": {},
   "outputs": [
    {
     "data": {
      "text/plain": [
       "{'mean_fit_time': array([0.12651548, 0.13075762, 0.11444583]),\n",
       " 'std_fit_time': array([0.02641129, 0.02956984, 0.00730953]),\n",
       " 'mean_score_time': array([0.02412839, 0.02844453, 0.02524586]),\n",
       " 'std_score_time': array([0.00292727, 0.00583905, 0.00476915]),\n",
       " 'param_alpha': masked_array(data=[0.01, 1.0, 10.0],\n",
       "              mask=[False, False, False],\n",
       "        fill_value='?',\n",
       "             dtype=object),\n",
       " 'params': [{'alpha': 0.01}, {'alpha': 1.0}, {'alpha': 10.0}],\n",
       " 'split0_test_score': array([0.95898923, 0.95898923, 0.96188898]),\n",
       " 'split1_test_score': array([0.95608948, 0.95608948, 0.95691798]),\n",
       " 'split2_test_score': array([0.95443248, 0.95443248, 0.95733223]),\n",
       " 'split3_test_score': array([0.95980108, 0.95980108, 0.95980108]),\n",
       " 'split4_test_score': array([0.95608948, 0.95608948, 0.95608948]),\n",
       " 'mean_test_score': array([0.95708035, 0.95708035, 0.95840595]),\n",
       " 'std_test_score': array([0.00200105, 0.00200105, 0.00213592]),\n",
       " 'rank_test_score': array([2, 2, 1], dtype=int32)}"
      ]
     },
     "execution_count": 118,
     "metadata": {},
     "output_type": "execute_result"
    }
   ],
   "source": [
    "from sklearn.metrics import make_scorer, recall_score\n",
    "\n",
    "scoring = True\n",
    "\n",
    "scorer_c = make_scorer(recall_score)\n",
    "\n",
    "if scoring :\n",
    "    clf_over = GridSearchCV(clf_ridge, {'alpha' : np.array([0.01,1,10])}, scoring=scorer_c)\n",
    "else :\n",
    "    clf_over = GridSearchCV(clf_ridge, {'alpha' : np.array([0.01,1,10])})\n",
    "\n",
    "clf_over.fit(X_over_c.fillna(0), y_over_c)\n",
    "\n",
    "clf_over.cv_results_"
   ]
  },
  {
   "cell_type": "code",
   "execution_count": 119,
   "metadata": {},
   "outputs": [
    {
     "data": {
      "text/plain": [
       "RidgeClassifier(alpha=10.0)"
      ]
     },
     "execution_count": 119,
     "metadata": {},
     "output_type": "execute_result"
    }
   ],
   "source": [
    "clf_over.best_estimator_"
   ]
  },
  {
   "cell_type": "markdown",
   "metadata": {},
   "source": [
    "#### **d. Extract important features**"
   ]
  },
  {
   "cell_type": "markdown",
   "metadata": {},
   "source": [
    "After this CV, we extract the coefficients of the most important features."
   ]
  },
  {
   "cell_type": "code",
   "execution_count": 120,
   "metadata": {},
   "outputs": [],
   "source": [
    "features_coefs = np.transpose(np.vstack((X_over_c.columns, np.abs(clf_over.best_estimator_.coef_))))\n",
    "\n",
    "features_coefs = pd.DataFrame(features_coefs, columns = ['feature', 'coef']).sort_values('coef', ascending = False, ignore_index = True)"
   ]
  },
  {
   "cell_type": "code",
   "execution_count": 121,
   "metadata": {},
   "outputs": [
    {
     "data": {
      "text/plain": [
       "<AxesSubplot:xlabel='coef', ylabel='feature'>"
      ]
     },
     "execution_count": 121,
     "metadata": {},
     "output_type": "execute_result"
    },
    {
     "data": {
      "image/png": "[encoded data removed]",
      "text/plain": [
       "<Figure size 720x1440 with 1 Axes>"
      ]
     },
     "metadata": {
      "needs_background": "light"
     },
     "output_type": "display_data"
    }
   ],
   "source": [
    "plt.figure(figsize = (10,20))\n",
    "\n",
    "sns.set_color_codes(\"pastel\")\n",
    "sns.barplot(y=features_coefs.feature, x=features_coefs.coef, color=\"b\")\n"
   ]
  },
  {
   "cell_type": "markdown",
   "metadata": {},
   "source": [
    "In this histogram we have the features having the most impact on the prediction. We decide to take only the 15 most important ones."
   ]
  },
  {
   "cell_type": "code",
   "execution_count": 122,
   "metadata": {},
   "outputs": [],
   "source": [
    "features = features_coefs.feature.values[:15]"
   ]
  },
  {
   "cell_type": "code",
   "execution_count": 123,
   "metadata": {},
   "outputs": [
    {
     "data": {
      "text/plain": [
       "array(['WS', 'PTS', 'AST', 'OWS', 'PA/G', 'Game_played_prop', 'W/L%',\n",
       "       'AST%', 'PS/G', 'PER', 'ORB', 'BPM', 'DWS', 'Pos_SF', 'SRS'],\n",
       "      dtype=object)"
      ]
     },
     "execution_count": 123,
     "metadata": {},
     "output_type": "execute_result"
    }
   ],
   "source": [
    "features"
   ]
  },
  {
   "cell_type": "markdown",
   "metadata": {},
   "source": [
    "### ***2. Machine learning model for our classification***"
   ]
  },
  {
   "cell_type": "markdown",
   "metadata": {},
   "source": [
    "Let's get back our balanced training datasets."
   ]
  },
  {
   "cell_type": "markdown",
   "metadata": {},
   "source": [
    "Our features are given by this list :"
   ]
  },
  {
   "cell_type": "code",
   "execution_count": 124,
   "metadata": {},
   "outputs": [
    {
     "data": {
      "text/plain": [
       "array(['WS', 'PTS', 'AST', 'OWS', 'PA/G', 'Game_played_prop', 'W/L%',\n",
       "       'AST%', 'PS/G', 'PER', 'ORB', 'BPM', 'DWS', 'Pos_SF', 'SRS'],\n",
       "      dtype=object)"
      ]
     },
     "execution_count": 124,
     "metadata": {},
     "output_type": "execute_result"
    }
   ],
   "source": [
    "features"
   ]
  },
  {
   "cell_type": "markdown",
   "metadata": {},
   "source": [
    "Let's make our balanced train reduced to our selected features features."
   ]
  },
  {
   "cell_type": "code",
   "execution_count": 125,
   "metadata": {},
   "outputs": [],
   "source": [
    "X_train_classifier = X_over_c[features].fillna(0)\n",
    "y_train_classifier = y_over_c"
   ]
  },
  {
   "cell_type": "markdown",
   "metadata": {},
   "source": [
    "We will make our classification with a `RidgeClassifier`. (alpha = 10)"
   ]
  },
  {
   "cell_type": "markdown",
   "metadata": {},
   "source": [
    "#### **a. Training and performances of the model**"
   ]
  },
  {
   "cell_type": "code",
   "execution_count": 126,
   "metadata": {},
   "outputs": [],
   "source": [
    "classifier = linear_model.RidgeClassifier(alpha=10)"
   ]
  },
  {
   "cell_type": "code",
   "execution_count": 127,
   "metadata": {},
   "outputs": [
    {
     "data": {
      "text/plain": [
       "0        False\n",
       "1        False\n",
       "2        False\n",
       "3        False\n",
       "4        False\n",
       "         ...  \n",
       "24133     True\n",
       "24134     True\n",
       "24135     True\n",
       "24136     True\n",
       "24137     True\n",
       "Name: ShareYN, Length: 24138, dtype: bool"
      ]
     },
     "execution_count": 127,
     "metadata": {},
     "output_type": "execute_result"
    }
   ],
   "source": [
    "y_train_classifier"
   ]
  },
  {
   "cell_type": "code",
   "execution_count": 128,
   "metadata": {},
   "outputs": [
    {
     "data": {
      "text/html": [
       "<div>\n",
       "<style scoped>\n",
       "    .dataframe tbody tr th:only-of-type {\n",
       "        vertical-align: middle;\n",
       "    }\n",
       "\n",
       "    .dataframe tbody tr th {\n",
       "        vertical-align: top;\n",
       "    }\n",
       "\n",
       "    .dataframe thead th {\n",
       "        text-align: right;\n",
       "    }\n",
       "</style>\n",
       "<table border=\"1\" class=\"dataframe\">\n",
       "  <thead>\n",
       "    <tr style=\"text-align: right;\">\n",
       "      <th></th>\n",
       "      <th>WS</th>\n",
       "      <th>PTS</th>\n",
       "      <th>AST</th>\n",
       "      <th>OWS</th>\n",
       "      <th>PA/G</th>\n",
       "      <th>Game_played_prop</th>\n",
       "      <th>W/L%</th>\n",
       "      <th>AST%</th>\n",
       "      <th>PS/G</th>\n",
       "      <th>PER</th>\n",
       "      <th>ORB</th>\n",
       "      <th>BPM</th>\n",
       "      <th>DWS</th>\n",
       "      <th>Pos_SF</th>\n",
       "      <th>SRS</th>\n",
       "    </tr>\n",
       "  </thead>\n",
       "  <tbody>\n",
       "    <tr>\n",
       "      <th>0</th>\n",
       "      <td>-0.103143</td>\n",
       "      <td>-0.592278</td>\n",
       "      <td>-0.753183</td>\n",
       "      <td>0.159209</td>\n",
       "      <td>1.730763</td>\n",
       "      <td>0.135037</td>\n",
       "      <td>-0.573658</td>\n",
       "      <td>-0.913376</td>\n",
       "      <td>1.056080</td>\n",
       "      <td>0.214957</td>\n",
       "      <td>0.248370</td>\n",
       "      <td>0.274406</td>\n",
       "      <td>-0.540061</td>\n",
       "      <td>False</td>\n",
       "      <td>-0.466151</td>\n",
       "    </tr>\n",
       "    <tr>\n",
       "      <th>1</th>\n",
       "      <td>-1.048793</td>\n",
       "      <td>-0.885843</td>\n",
       "      <td>-0.586360</td>\n",
       "      <td>-1.010992</td>\n",
       "      <td>1.730763</td>\n",
       "      <td>-0.195096</td>\n",
       "      <td>-0.573658</td>\n",
       "      <td>-0.551056</td>\n",
       "      <td>1.056080</td>\n",
       "      <td>-1.425978</td>\n",
       "      <td>-0.760502</td>\n",
       "      <td>-0.981322</td>\n",
       "      <td>-0.795123</td>\n",
       "      <td>False</td>\n",
       "      <td>-0.466151</td>\n",
       "    </tr>\n",
       "    <tr>\n",
       "      <th>2</th>\n",
       "      <td>-0.778607</td>\n",
       "      <td>0.271148</td>\n",
       "      <td>0.025324</td>\n",
       "      <td>-0.620925</td>\n",
       "      <td>1.730763</td>\n",
       "      <td>0.506436</td>\n",
       "      <td>-0.573658</td>\n",
       "      <td>-0.177758</td>\n",
       "      <td>1.056080</td>\n",
       "      <td>-0.784693</td>\n",
       "      <td>-1.012720</td>\n",
       "      <td>-0.781547</td>\n",
       "      <td>-0.880144</td>\n",
       "      <td>False</td>\n",
       "      <td>-0.466151</td>\n",
       "    </tr>\n",
       "    <tr>\n",
       "      <th>3</th>\n",
       "      <td>-0.846154</td>\n",
       "      <td>-0.851306</td>\n",
       "      <td>-0.697575</td>\n",
       "      <td>-0.669683</td>\n",
       "      <td>1.730763</td>\n",
       "      <td>-1.598162</td>\n",
       "      <td>-0.573658</td>\n",
       "      <td>-0.485180</td>\n",
       "      <td>1.056080</td>\n",
       "      <td>-0.426328</td>\n",
       "      <td>-0.760502</td>\n",
       "      <td>-0.210762</td>\n",
       "      <td>-1.050186</td>\n",
       "      <td>True</td>\n",
       "      <td>-0.466151</td>\n",
       "    </tr>\n",
       "    <tr>\n",
       "      <th>4</th>\n",
       "      <td>0.268362</td>\n",
       "      <td>0.547445</td>\n",
       "      <td>-0.252714</td>\n",
       "      <td>0.305484</td>\n",
       "      <td>1.730763</td>\n",
       "      <td>0.547703</td>\n",
       "      <td>-0.573658</td>\n",
       "      <td>-0.573015</td>\n",
       "      <td>1.056080</td>\n",
       "      <td>0.064067</td>\n",
       "      <td>-0.129957</td>\n",
       "      <td>0.331484</td>\n",
       "      <td>0.140105</td>\n",
       "      <td>False</td>\n",
       "      <td>-0.466151</td>\n",
       "    </tr>\n",
       "    <tr>\n",
       "      <th>...</th>\n",
       "      <td>...</td>\n",
       "      <td>...</td>\n",
       "      <td>...</td>\n",
       "      <td>...</td>\n",
       "      <td>...</td>\n",
       "      <td>...</td>\n",
       "      <td>...</td>\n",
       "      <td>...</td>\n",
       "      <td>...</td>\n",
       "      <td>...</td>\n",
       "      <td>...</td>\n",
       "      <td>...</td>\n",
       "      <td>...</td>\n",
       "      <td>...</td>\n",
       "      <td>...</td>\n",
       "    </tr>\n",
       "    <tr>\n",
       "      <th>24133</th>\n",
       "      <td>2.779600</td>\n",
       "      <td>2.536071</td>\n",
       "      <td>1.697629</td>\n",
       "      <td>2.163222</td>\n",
       "      <td>-0.359655</td>\n",
       "      <td>0.963347</td>\n",
       "      <td>0.702510</td>\n",
       "      <td>0.850581</td>\n",
       "      <td>0.266673</td>\n",
       "      <td>1.927561</td>\n",
       "      <td>1.961195</td>\n",
       "      <td>1.811098</td>\n",
       "      <td>3.237513</td>\n",
       "      <td>False</td>\n",
       "      <td>0.593762</td>\n",
       "    </tr>\n",
       "    <tr>\n",
       "      <th>24134</th>\n",
       "      <td>3.376070</td>\n",
       "      <td>2.222157</td>\n",
       "      <td>-0.060260</td>\n",
       "      <td>2.448801</td>\n",
       "      <td>-0.900383</td>\n",
       "      <td>0.885866</td>\n",
       "      <td>1.101225</td>\n",
       "      <td>-0.459058</td>\n",
       "      <td>-0.142879</td>\n",
       "      <td>2.475429</td>\n",
       "      <td>2.709265</td>\n",
       "      <td>2.010979</td>\n",
       "      <td>4.238530</td>\n",
       "      <td>False</td>\n",
       "      <td>0.795745</td>\n",
       "    </tr>\n",
       "    <tr>\n",
       "      <th>24135</th>\n",
       "      <td>2.843602</td>\n",
       "      <td>3.016817</td>\n",
       "      <td>1.097130</td>\n",
       "      <td>3.582426</td>\n",
       "      <td>-0.043700</td>\n",
       "      <td>1.002317</td>\n",
       "      <td>0.319110</td>\n",
       "      <td>0.746861</td>\n",
       "      <td>-0.064684</td>\n",
       "      <td>1.892365</td>\n",
       "      <td>0.807055</td>\n",
       "      <td>1.631490</td>\n",
       "      <td>1.011116</td>\n",
       "      <td>True</td>\n",
       "      <td>-0.093750</td>\n",
       "    </tr>\n",
       "    <tr>\n",
       "      <th>24136</th>\n",
       "      <td>1.626275</td>\n",
       "      <td>2.013939</td>\n",
       "      <td>0.304267</td>\n",
       "      <td>1.627579</td>\n",
       "      <td>-0.204651</td>\n",
       "      <td>0.765886</td>\n",
       "      <td>1.048641</td>\n",
       "      <td>-0.368741</td>\n",
       "      <td>0.696091</td>\n",
       "      <td>0.943642</td>\n",
       "      <td>0.464925</td>\n",
       "      <td>0.542822</td>\n",
       "      <td>1.055116</td>\n",
       "      <td>True</td>\n",
       "      <td>0.816922</td>\n",
       "    </tr>\n",
       "    <tr>\n",
       "      <th>24137</th>\n",
       "      <td>3.282854</td>\n",
       "      <td>3.015851</td>\n",
       "      <td>1.127830</td>\n",
       "      <td>2.946375</td>\n",
       "      <td>-0.009837</td>\n",
       "      <td>1.040308</td>\n",
       "      <td>0.660992</td>\n",
       "      <td>0.426228</td>\n",
       "      <td>0.824644</td>\n",
       "      <td>1.335866</td>\n",
       "      <td>0.687980</td>\n",
       "      <td>1.467040</td>\n",
       "      <td>3.221162</td>\n",
       "      <td>True</td>\n",
       "      <td>0.750259</td>\n",
       "    </tr>\n",
       "  </tbody>\n",
       "</table>\n",
       "<p>24138 rows × 15 columns</p>\n",
       "</div>"
      ],
      "text/plain": [
       "             WS       PTS       AST       OWS      PA/G  Game_played_prop  \\\n",
       "0     -0.103143 -0.592278 -0.753183  0.159209  1.730763          0.135037   \n",
       "1     -1.048793 -0.885843 -0.586360 -1.010992  1.730763         -0.195096   \n",
       "2     -0.778607  0.271148  0.025324 -0.620925  1.730763          0.506436   \n",
       "3     -0.846154 -0.851306 -0.697575 -0.669683  1.730763         -1.598162   \n",
       "4      0.268362  0.547445 -0.252714  0.305484  1.730763          0.547703   \n",
       "...         ...       ...       ...       ...       ...               ...   \n",
       "24133  2.779600  2.536071  1.697629  2.163222 -0.359655          0.963347   \n",
       "24134  3.376070  2.222157 -0.060260  2.448801 -0.900383          0.885866   \n",
       "24135  2.843602  3.016817  1.097130  3.582426 -0.043700          1.002317   \n",
       "24136  1.626275  2.013939  0.304267  1.627579 -0.204651          0.765886   \n",
       "24137  3.282854  3.015851  1.127830  2.946375 -0.009837          1.040308   \n",
       "\n",
       "           W/L%      AST%      PS/G       PER       ORB       BPM       DWS  \\\n",
       "0     -0.573658 -0.913376  1.056080  0.214957  0.248370  0.274406 -0.540061   \n",
       "1     -0.573658 -0.551056  1.056080 -1.425978 -0.760502 -0.981322 -0.795123   \n",
       "2     -0.573658 -0.177758  1.056080 -0.784693 -1.012720 -0.781547 -0.880144   \n",
       "3     -0.573658 -0.485180  1.056080 -0.426328 -0.760502 -0.210762 -1.050186   \n",
       "4     -0.573658 -0.573015  1.056080  0.064067 -0.129957  0.331484  0.140105   \n",
       "...         ...       ...       ...       ...       ...       ...       ...   \n",
       "24133  0.702510  0.850581  0.266673  1.927561  1.961195  1.811098  3.237513   \n",
       "24134  1.101225 -0.459058 -0.142879  2.475429  2.709265  2.010979  4.238530   \n",
       "24135  0.319110  0.746861 -0.064684  1.892365  0.807055  1.631490  1.011116   \n",
       "24136  1.048641 -0.368741  0.696091  0.943642  0.464925  0.542822  1.055116   \n",
       "24137  0.660992  0.426228  0.824644  1.335866  0.687980  1.467040  3.221162   \n",
       "\n",
       "       Pos_SF       SRS  \n",
       "0       False -0.466151  \n",
       "1       False -0.466151  \n",
       "2       False -0.466151  \n",
       "3        True -0.466151  \n",
       "4       False -0.466151  \n",
       "...       ...       ...  \n",
       "24133   False  0.593762  \n",
       "24134   False  0.795745  \n",
       "24135    True -0.093750  \n",
       "24136    True  0.816922  \n",
       "24137    True  0.750259  \n",
       "\n",
       "[24138 rows x 15 columns]"
      ]
     },
     "execution_count": 128,
     "metadata": {},
     "output_type": "execute_result"
    }
   ],
   "source": [
    "X_train_classifier"
   ]
  },
  {
   "cell_type": "code",
   "execution_count": 129,
   "metadata": {},
   "outputs": [
    {
     "data": {
      "text/plain": [
       "RidgeClassifier(alpha=10)"
      ]
     },
     "execution_count": 129,
     "metadata": {},
     "output_type": "execute_result"
    }
   ],
   "source": [
    "classifier.fit(X_train_classifier, y_train_classifier)"
   ]
  },
  {
   "cell_type": "code",
   "execution_count": 130,
   "metadata": {},
   "outputs": [
    {
     "data": {
      "text/plain": [
       "0.9213447510307643"
      ]
     },
     "execution_count": 130,
     "metadata": {},
     "output_type": "execute_result"
    }
   ],
   "source": [
    "classifier.score(X_test_c[features].fillna(0), y_test_c)"
   ]
  },
  {
   "cell_type": "code",
   "execution_count": 131,
   "metadata": {},
   "outputs": [
    {
     "data": {
      "text/plain": [
       "array([[2770,  245],\n",
       "       [   3,  135]])"
      ]
     },
     "execution_count": 131,
     "metadata": {},
     "output_type": "execute_result"
    }
   ],
   "source": [
    "from sklearn.metrics import confusion_matrix\n",
    "\n",
    "confusion_matrix(y_test_c,classifier.predict(X_test_c[features].fillna(0)))"
   ]
  },
  {
   "cell_type": "code",
   "execution_count": 132,
   "metadata": {},
   "outputs": [
    {
     "data": {
      "text/plain": [
       "False    3015\n",
       "True      138\n",
       "Name: ShareYN, dtype: int64"
      ]
     },
     "execution_count": 132,
     "metadata": {},
     "output_type": "execute_result"
    }
   ],
   "source": [
    "y_test_c.value_counts()"
   ]
  },
  {
   "cell_type": "markdown",
   "metadata": {},
   "source": [
    "#### **b. Extraction of our 2021-2022 canditates**"
   ]
  },
  {
   "cell_type": "markdown",
   "metadata": {},
   "source": [
    "##### *1. Splitting dataset*"
   ]
  },
  {
   "cell_type": "code",
   "execution_count": 133,
   "metadata": {},
   "outputs": [],
   "source": [
    "Player_22 = data_22_scaled[['Player']]\n",
    "\n",
    "X_22_classif = data_22_scaled.drop(columns=['Player', 'Season','Tm'])"
   ]
  },
  {
   "cell_type": "code",
   "execution_count": 134,
   "metadata": {},
   "outputs": [],
   "source": [
    "X_22_classif = pd.DataFrame(X_22_classif)"
   ]
  },
  {
   "cell_type": "code",
   "execution_count": 135,
   "metadata": {},
   "outputs": [],
   "source": [
    "for col in list(X_22_classif.columns)[:5] :\n",
    "    X_22_classif[col] = X_22_classif[col].astype(bool)"
   ]
  },
  {
   "cell_type": "code",
   "execution_count": 136,
   "metadata": {},
   "outputs": [],
   "source": [
    "X_22_classif = X_22_classif[features].fillna(0)"
   ]
  },
  {
   "cell_type": "markdown",
   "metadata": {},
   "source": [
    "##### *2. Prediction of our candidates*"
   ]
  },
  {
   "cell_type": "code",
   "execution_count": 137,
   "metadata": {},
   "outputs": [],
   "source": [
    "y_pred_22 = classifier.predict(X_22_classif)"
   ]
  },
  {
   "cell_type": "code",
   "execution_count": 138,
   "metadata": {},
   "outputs": [],
   "source": [
    "results_22 = Player_22.assign(Prediction = y_pred_22)\n",
    "\n",
    "results_22['coefs'] = classifier.decision_function(X_22_classif)\n"
   ]
  },
  {
   "cell_type": "code",
   "execution_count": 139,
   "metadata": {},
   "outputs": [
    {
     "data": {
      "text/html": [
       "<div>\n",
       "<style scoped>\n",
       "    .dataframe tbody tr th:only-of-type {\n",
       "        vertical-align: middle;\n",
       "    }\n",
       "\n",
       "    .dataframe tbody tr th {\n",
       "        vertical-align: top;\n",
       "    }\n",
       "\n",
       "    .dataframe thead th {\n",
       "        text-align: right;\n",
       "    }\n",
       "</style>\n",
       "<table border=\"1\" class=\"dataframe\">\n",
       "  <thead>\n",
       "    <tr style=\"text-align: right;\">\n",
       "      <th></th>\n",
       "      <th>Player</th>\n",
       "      <th>Prediction</th>\n",
       "      <th>coefs</th>\n",
       "    </tr>\n",
       "  </thead>\n",
       "  <tbody>\n",
       "    <tr>\n",
       "      <th>0</th>\n",
       "      <td>Nikola Jokić</td>\n",
       "      <td>True</td>\n",
       "      <td>1.353364</td>\n",
       "    </tr>\n",
       "    <tr>\n",
       "      <th>1</th>\n",
       "      <td>Giannis Antetokounmpo</td>\n",
       "      <td>True</td>\n",
       "      <td>1.225088</td>\n",
       "    </tr>\n",
       "    <tr>\n",
       "      <th>2</th>\n",
       "      <td>Joel Embiid</td>\n",
       "      <td>True</td>\n",
       "      <td>1.191589</td>\n",
       "    </tr>\n",
       "    <tr>\n",
       "      <th>3</th>\n",
       "      <td>Chris Paul</td>\n",
       "      <td>True</td>\n",
       "      <td>1.129898</td>\n",
       "    </tr>\n",
       "    <tr>\n",
       "      <th>4</th>\n",
       "      <td>Luka Dončić</td>\n",
       "      <td>True</td>\n",
       "      <td>1.065264</td>\n",
       "    </tr>\n",
       "    <tr>\n",
       "      <th>...</th>\n",
       "      <td>...</td>\n",
       "      <td>...</td>\n",
       "      <td>...</td>\n",
       "    </tr>\n",
       "    <tr>\n",
       "      <th>60</th>\n",
       "      <td>Bobby Portis</td>\n",
       "      <td>True</td>\n",
       "      <td>0.054040</td>\n",
       "    </tr>\n",
       "    <tr>\n",
       "      <th>61</th>\n",
       "      <td>Steven Adams</td>\n",
       "      <td>True</td>\n",
       "      <td>0.050267</td>\n",
       "    </tr>\n",
       "    <tr>\n",
       "      <th>62</th>\n",
       "      <td>OG Anunoby</td>\n",
       "      <td>True</td>\n",
       "      <td>0.047128</td>\n",
       "    </tr>\n",
       "    <tr>\n",
       "      <th>63</th>\n",
       "      <td>Dillon Brooks</td>\n",
       "      <td>True</td>\n",
       "      <td>0.034511</td>\n",
       "    </tr>\n",
       "    <tr>\n",
       "      <th>64</th>\n",
       "      <td>Ricky Rubio</td>\n",
       "      <td>True</td>\n",
       "      <td>0.033348</td>\n",
       "    </tr>\n",
       "  </tbody>\n",
       "</table>\n",
       "<p>65 rows × 3 columns</p>\n",
       "</div>"
      ],
      "text/plain": [
       "                   Player  Prediction     coefs\n",
       "0            Nikola Jokić        True  1.353364\n",
       "1   Giannis Antetokounmpo        True  1.225088\n",
       "2             Joel Embiid        True  1.191589\n",
       "3              Chris Paul        True  1.129898\n",
       "4             Luka Dončić        True  1.065264\n",
       "..                    ...         ...       ...\n",
       "60           Bobby Portis        True  0.054040\n",
       "61           Steven Adams        True  0.050267\n",
       "62             OG Anunoby        True  0.047128\n",
       "63          Dillon Brooks        True  0.034511\n",
       "64            Ricky Rubio        True  0.033348\n",
       "\n",
       "[65 rows x 3 columns]"
      ]
     },
     "execution_count": 139,
     "metadata": {},
     "output_type": "execute_result"
    }
   ],
   "source": [
    "results_22[results_22.Prediction].sort_values('coefs', ascending = False, ignore_index = True)"
   ]
  },
  {
   "cell_type": "code",
   "execution_count": 140,
   "metadata": {},
   "outputs": [],
   "source": [
    "candidates = results_22.sort_values('coefs',ascending = False).Player.values[:20]"
   ]
  },
  {
   "cell_type": "code",
   "execution_count": 141,
   "metadata": {},
   "outputs": [
    {
     "data": {
      "text/plain": [
       "array(['Nikola Jokić', 'Giannis Antetokounmpo', 'Joel Embiid',\n",
       "       'Chris Paul', 'Luka Dončić', 'Stephen Curry', 'Ja Morant',\n",
       "       'James Harden', 'LeBron James', 'Jimmy Butler', 'Devin Booker',\n",
       "       'Kevin Durant', 'DeMar DeRozan', 'Jayson Tatum',\n",
       "       'Karl-Anthony Towns', 'Dejounte Murray', 'Trae Young',\n",
       "       'Donovan Mitchell', 'Fred VanVleet', 'Rudy Gobert'], dtype=object)"
      ]
     },
     "execution_count": 141,
     "metadata": {},
     "output_type": "execute_result"
    }
   ],
   "source": [
    "candidates"
   ]
  },
  {
   "cell_type": "markdown",
   "metadata": {},
   "source": [
    "##      **III. Predicting the 2021-2022 NBA MVP**"
   ]
  },
  {
   "cell_type": "markdown",
   "metadata": {},
   "source": [
    "Our second and last problem is a regression problem: **How many votes the player will receive?** (label `MVP_share`)"
   ]
  },
  {
   "cell_type": "code",
   "execution_count": 142,
   "metadata": {},
   "outputs": [],
   "source": [
    "data_reg = dataset_scaled[dataset_scaled.ShareYN == 1].drop(columns=['MVP', 'ShareYN']).reset_index()\n",
    "\n",
    "#We create a copy of our global dataset (only with players that received votes)\n",
    "#without the columns MVP and ShareYN (0/1 columns)"
   ]
  },
  {
   "cell_type": "markdown",
   "metadata": {},
   "source": [
    "###      ***1. Creating 2021-2022 dataset with candidates***"
   ]
  },
  {
   "cell_type": "code",
   "execution_count": 143,
   "metadata": {},
   "outputs": [],
   "source": [
    "data_22_reg = data_22_scaled[data_22_scaled.Player.isin(candidates)]\n",
    "\n",
    "data_22_reg = data_22_reg.reset_index()"
   ]
  },
  {
   "cell_type": "code",
   "execution_count": 144,
   "metadata": {},
   "outputs": [],
   "source": [
    "Player_22_reg = data_22_reg[['Player']]\n",
    "\n",
    "X_22_reg = data_22_reg[features]"
   ]
  },
  {
   "cell_type": "markdown",
   "metadata": {},
   "source": [
    "###      ***2. Splitting, formating***"
   ]
  },
  {
   "cell_type": "markdown",
   "metadata": {},
   "source": [
    "#### **a. Splitting**"
   ]
  },
  {
   "cell_type": "code",
   "execution_count": 145,
   "metadata": {},
   "outputs": [],
   "source": [
    "Player_reg = data_reg[['Player', 'Season','Tm']]\n",
    "X_reg = data_reg.drop(columns=['Player', 'Season','Tm','MVP_share'])\n",
    "y_reg = data_reg.MVP_share"
   ]
  },
  {
   "cell_type": "code",
   "execution_count": 146,
   "metadata": {},
   "outputs": [],
   "source": [
    "X_train_reg = X_reg.sample(frac=0.8).sort_index()\n",
    "X_test_reg = X_reg.drop(X_train_reg.index).sort_index()\n",
    "\n",
    "Player_train_reg = Player_reg.iloc[list(X_train_reg.index),:].sort_index()\n",
    "Player_test_reg = Player_reg.drop(X_train_reg.index).sort_index()\n",
    "\n",
    "y_train_reg = y_reg[X_train_reg.index].sort_index()\n",
    "y_test_reg = y_reg.drop(X_train_reg.index).sort_index()"
   ]
  },
  {
   "cell_type": "markdown",
   "metadata": {},
   "source": [
    "#### **b. Puting the data in the right format**"
   ]
  },
  {
   "cell_type": "code",
   "execution_count": 147,
   "metadata": {},
   "outputs": [],
   "source": [
    "X_train_reg = pd.DataFrame(X_train_reg)\n",
    "X_test_reg = pd.DataFrame(X_test_reg)"
   ]
  },
  {
   "cell_type": "code",
   "execution_count": 148,
   "metadata": {},
   "outputs": [],
   "source": [
    "y_train_reg = y_train_reg.astype(float)\n",
    "y_test_reg = y_test_reg.astype(float)"
   ]
  },
  {
   "cell_type": "markdown",
   "metadata": {},
   "source": [
    "###      ***3. Dimension downsizing***"
   ]
  },
  {
   "cell_type": "markdown",
   "metadata": {},
   "source": [
    "We will use the same features that we used to determine the candidates, these are stocked in the `features`."
   ]
  },
  {
   "cell_type": "code",
   "execution_count": 149,
   "metadata": {},
   "outputs": [],
   "source": [
    "X_train_reg = X_train_reg[features].fillna(0)\n",
    "X_test_reg = X_test_reg[features].fillna(0)"
   ]
  },
  {
   "cell_type": "markdown",
   "metadata": {},
   "source": [
    "###      ***4. Machine learning models for our regression***"
   ]
  },
  {
   "cell_type": "markdown",
   "metadata": {},
   "source": [
    "To predict the MVP award winner, we will use differents algorithms and synthesize them in the report. Thus we will use :\n",
    "- Linear regression\n",
    "- Random Forest\n",
    "- kNN\n",
    "- Deep Neural Networks"
   ]
  },
  {
   "cell_type": "markdown",
   "metadata": {},
   "source": [
    "#### **a. Linear regression**"
   ]
  },
  {
   "cell_type": "markdown",
   "metadata": {},
   "source": [
    "##### *1. Training and performances*"
   ]
  },
  {
   "cell_type": "code",
   "execution_count": 150,
   "metadata": {},
   "outputs": [
    {
     "data": {
      "text/plain": [
       "LinearRegression()"
      ]
     },
     "execution_count": 150,
     "metadata": {},
     "output_type": "execute_result"
    }
   ],
   "source": [
    "from sklearn.linear_model import LinearRegression\n",
    "\n",
    "reg_lin = LinearRegression()\n",
    "\n",
    "reg_lin.fit(X_train_reg, y_train_reg)"
   ]
  },
  {
   "cell_type": "code",
   "execution_count": 151,
   "metadata": {},
   "outputs": [
    {
     "data": {
      "text/plain": [
       "0.5392054680268724"
      ]
     },
     "execution_count": 151,
     "metadata": {},
     "output_type": "execute_result"
    }
   ],
   "source": [
    "reg_lin.score(X_test_reg, y_test_reg)"
   ]
  },
  {
   "cell_type": "markdown",
   "metadata": {},
   "source": [
    "##### *2. Prediction for 2021-2022 season*"
   ]
  },
  {
   "cell_type": "code",
   "execution_count": 152,
   "metadata": {},
   "outputs": [],
   "source": [
    "y_pred_22_lin = reg_lin.predict(X_22_reg)"
   ]
  },
  {
   "cell_type": "code",
   "execution_count": 153,
   "metadata": {},
   "outputs": [],
   "source": [
    "results_22_lin = pd.DataFrame(np.vstack((Player_22_reg.to_numpy().transpose(), y_pred_22_lin)).transpose(), columns = ['player', 'share_pred'])"
   ]
  },
  {
   "cell_type": "code",
   "execution_count": 154,
   "metadata": {},
   "outputs": [
    {
     "data": {
      "text/html": [
       "<div>\n",
       "<style scoped>\n",
       "    .dataframe tbody tr th:only-of-type {\n",
       "        vertical-align: middle;\n",
       "    }\n",
       "\n",
       "    .dataframe tbody tr th {\n",
       "        vertical-align: top;\n",
       "    }\n",
       "\n",
       "    .dataframe thead th {\n",
       "        text-align: right;\n",
       "    }\n",
       "</style>\n",
       "<table border=\"1\" class=\"dataframe\">\n",
       "  <thead>\n",
       "    <tr style=\"text-align: right;\">\n",
       "      <th></th>\n",
       "      <th>index</th>\n",
       "      <th>player</th>\n",
       "      <th>share_pred</th>\n",
       "    </tr>\n",
       "  </thead>\n",
       "  <tbody>\n",
       "    <tr>\n",
       "      <th>0</th>\n",
       "      <td>13</td>\n",
       "      <td>Nikola Jokić</td>\n",
       "      <td>0.471156</td>\n",
       "    </tr>\n",
       "    <tr>\n",
       "      <th>1</th>\n",
       "      <td>5</td>\n",
       "      <td>Giannis Antetokounmpo</td>\n",
       "      <td>0.422249</td>\n",
       "    </tr>\n",
       "    <tr>\n",
       "      <th>2</th>\n",
       "      <td>14</td>\n",
       "      <td>Joel Embiid</td>\n",
       "      <td>0.388486</td>\n",
       "    </tr>\n",
       "    <tr>\n",
       "      <th>3</th>\n",
       "      <td>8</td>\n",
       "      <td>Chris Paul</td>\n",
       "      <td>0.312992</td>\n",
       "    </tr>\n",
       "    <tr>\n",
       "      <th>4</th>\n",
       "      <td>17</td>\n",
       "      <td>Stephen Curry</td>\n",
       "      <td>0.311721</td>\n",
       "    </tr>\n",
       "    <tr>\n",
       "      <th>5</th>\n",
       "      <td>1</td>\n",
       "      <td>Ja Morant</td>\n",
       "      <td>0.244819</td>\n",
       "    </tr>\n",
       "    <tr>\n",
       "      <th>6</th>\n",
       "      <td>7</td>\n",
       "      <td>Devin Booker</td>\n",
       "      <td>0.243149</td>\n",
       "    </tr>\n",
       "    <tr>\n",
       "      <th>7</th>\n",
       "      <td>11</td>\n",
       "      <td>DeMar DeRozan</td>\n",
       "      <td>0.240279</td>\n",
       "    </tr>\n",
       "    <tr>\n",
       "      <th>8</th>\n",
       "      <td>2</td>\n",
       "      <td>Jimmy Butler</td>\n",
       "      <td>0.230671</td>\n",
       "    </tr>\n",
       "    <tr>\n",
       "      <th>9</th>\n",
       "      <td>19</td>\n",
       "      <td>Luka Dončić</td>\n",
       "      <td>0.229363</td>\n",
       "    </tr>\n",
       "    <tr>\n",
       "      <th>10</th>\n",
       "      <td>6</td>\n",
       "      <td>LeBron James</td>\n",
       "      <td>0.153197</td>\n",
       "    </tr>\n",
       "    <tr>\n",
       "      <th>11</th>\n",
       "      <td>3</td>\n",
       "      <td>Kevin Durant</td>\n",
       "      <td>0.144596</td>\n",
       "    </tr>\n",
       "    <tr>\n",
       "      <th>12</th>\n",
       "      <td>16</td>\n",
       "      <td>Karl-Anthony Towns</td>\n",
       "      <td>0.127262</td>\n",
       "    </tr>\n",
       "    <tr>\n",
       "      <th>13</th>\n",
       "      <td>9</td>\n",
       "      <td>Rudy Gobert</td>\n",
       "      <td>0.11859</td>\n",
       "    </tr>\n",
       "    <tr>\n",
       "      <th>14</th>\n",
       "      <td>18</td>\n",
       "      <td>Jayson Tatum</td>\n",
       "      <td>0.088512</td>\n",
       "    </tr>\n",
       "    <tr>\n",
       "      <th>15</th>\n",
       "      <td>10</td>\n",
       "      <td>Donovan Mitchell</td>\n",
       "      <td>0.085699</td>\n",
       "    </tr>\n",
       "    <tr>\n",
       "      <th>16</th>\n",
       "      <td>4</td>\n",
       "      <td>James Harden</td>\n",
       "      <td>0.038019</td>\n",
       "    </tr>\n",
       "    <tr>\n",
       "      <th>17</th>\n",
       "      <td>12</td>\n",
       "      <td>Trae Young</td>\n",
       "      <td>0.030692</td>\n",
       "    </tr>\n",
       "    <tr>\n",
       "      <th>18</th>\n",
       "      <td>0</td>\n",
       "      <td>Fred VanVleet</td>\n",
       "      <td>0.020877</td>\n",
       "    </tr>\n",
       "    <tr>\n",
       "      <th>19</th>\n",
       "      <td>15</td>\n",
       "      <td>Dejounte Murray</td>\n",
       "      <td>-0.087867</td>\n",
       "    </tr>\n",
       "  </tbody>\n",
       "</table>\n",
       "</div>"
      ],
      "text/plain": [
       "    index                 player share_pred\n",
       "0      13           Nikola Jokić   0.471156\n",
       "1       5  Giannis Antetokounmpo   0.422249\n",
       "2      14            Joel Embiid   0.388486\n",
       "3       8             Chris Paul   0.312992\n",
       "4      17          Stephen Curry   0.311721\n",
       "5       1              Ja Morant   0.244819\n",
       "6       7           Devin Booker   0.243149\n",
       "7      11          DeMar DeRozan   0.240279\n",
       "8       2           Jimmy Butler   0.230671\n",
       "9      19            Luka Dončić   0.229363\n",
       "10      6           LeBron James   0.153197\n",
       "11      3           Kevin Durant   0.144596\n",
       "12     16     Karl-Anthony Towns   0.127262\n",
       "13      9            Rudy Gobert    0.11859\n",
       "14     18           Jayson Tatum   0.088512\n",
       "15     10       Donovan Mitchell   0.085699\n",
       "16      4           James Harden   0.038019\n",
       "17     12             Trae Young   0.030692\n",
       "18      0          Fred VanVleet   0.020877\n",
       "19     15        Dejounte Murray  -0.087867"
      ]
     },
     "execution_count": 154,
     "metadata": {},
     "output_type": "execute_result"
    }
   ],
   "source": [
    "results_22_lin.sort_values('share_pred', ascending = False).reset_index()"
   ]
  },
  {
   "cell_type": "markdown",
   "metadata": {},
   "source": [
    "#### **b. Random Forest**"
   ]
  },
  {
   "cell_type": "markdown",
   "metadata": {},
   "source": [
    "##### *1. Training and performances*"
   ]
  },
  {
   "cell_type": "code",
   "execution_count": 155,
   "metadata": {},
   "outputs": [
    {
     "data": {
      "text/plain": [
       "{'mean_fit_time': array([0.21668506, 0.26510262, 0.31693187]),\n",
       " 'std_fit_time': array([0.03678972, 0.0022815 , 0.01182043]),\n",
       " 'mean_score_time': array([0.00804019, 0.00805464, 0.00880699]),\n",
       " 'std_score_time': array([0.00066261, 0.00041383, 0.00083787]),\n",
       " 'param_max_depth': masked_array(data=[5, 10, 15],\n",
       "              mask=[False, False, False],\n",
       "        fill_value='?',\n",
       "             dtype=object),\n",
       " 'params': [{'max_depth': 5}, {'max_depth': 10}, {'max_depth': 15}],\n",
       " 'split0_test_score': array([0.57249439, 0.58098811, 0.56564264]),\n",
       " 'split1_test_score': array([0.52793917, 0.52526225, 0.52040273]),\n",
       " 'split2_test_score': array([0.62453921, 0.598329  , 0.61656465]),\n",
       " 'split3_test_score': array([0.52431773, 0.53861482, 0.54179902]),\n",
       " 'split4_test_score': array([0.57046421, 0.57185786, 0.58574243]),\n",
       " 'mean_test_score': array([0.56395094, 0.56301041, 0.5660303 ]),\n",
       " 'std_test_score': array([0.0364801 , 0.02708855, 0.03350065]),\n",
       " 'rank_test_score': array([2, 3, 1], dtype=int32)}"
      ]
     },
     "execution_count": 155,
     "metadata": {},
     "output_type": "execute_result"
    }
   ],
   "source": [
    "from sklearn.ensemble import RandomForestRegressor\n",
    "from sklearn.model_selection import GridSearchCV\n",
    "\n",
    "reg_rf = RandomForestRegressor()\n",
    "\n",
    "param_rf = {\n",
    "                'max_depth' : np.array([5, 10, 15]),\n",
    "            }\n",
    "\n",
    "reg_rf_CV = GridSearchCV(reg_rf, param_rf)\n",
    "\n",
    "reg_rf_CV.fit(X_train_reg, y_train_reg)\n",
    "\n",
    "reg_rf_CV.cv_results_"
   ]
  },
  {
   "cell_type": "code",
   "execution_count": 156,
   "metadata": {},
   "outputs": [
    {
     "data": {
      "text/plain": [
       "0.7266402891757502"
      ]
     },
     "execution_count": 156,
     "metadata": {},
     "output_type": "execute_result"
    }
   ],
   "source": [
    "reg_rf_best = reg_rf_CV.best_estimator_\n",
    "\n",
    "reg_rf_best.score(X_test_reg, y_test_reg)"
   ]
  },
  {
   "cell_type": "markdown",
   "metadata": {},
   "source": [
    "##### *2. Prediction for 2021-2022 season*"
   ]
  },
  {
   "cell_type": "code",
   "execution_count": 157,
   "metadata": {},
   "outputs": [],
   "source": [
    "y_pred_22_rf = reg_rf_best.predict(X_22_reg)"
   ]
  },
  {
   "cell_type": "code",
   "execution_count": 158,
   "metadata": {},
   "outputs": [],
   "source": [
    "results_22_rf = pd.DataFrame(np.vstack((Player_22_reg.to_numpy().transpose(), y_pred_22_rf)).transpose(), columns = ['player', 'share_pred'])"
   ]
  },
  {
   "cell_type": "code",
   "execution_count": 159,
   "metadata": {},
   "outputs": [
    {
     "data": {
      "text/html": [
       "<div>\n",
       "<style scoped>\n",
       "    .dataframe tbody tr th:only-of-type {\n",
       "        vertical-align: middle;\n",
       "    }\n",
       "\n",
       "    .dataframe tbody tr th {\n",
       "        vertical-align: top;\n",
       "    }\n",
       "\n",
       "    .dataframe thead th {\n",
       "        text-align: right;\n",
       "    }\n",
       "</style>\n",
       "<table border=\"1\" class=\"dataframe\">\n",
       "  <thead>\n",
       "    <tr style=\"text-align: right;\">\n",
       "      <th></th>\n",
       "      <th>index</th>\n",
       "      <th>player</th>\n",
       "      <th>share_pred</th>\n",
       "    </tr>\n",
       "  </thead>\n",
       "  <tbody>\n",
       "    <tr>\n",
       "      <th>0</th>\n",
       "      <td>8</td>\n",
       "      <td>Chris Paul</td>\n",
       "      <td>0.46407</td>\n",
       "    </tr>\n",
       "    <tr>\n",
       "      <th>1</th>\n",
       "      <td>13</td>\n",
       "      <td>Nikola Jokić</td>\n",
       "      <td>0.41442</td>\n",
       "    </tr>\n",
       "    <tr>\n",
       "      <th>2</th>\n",
       "      <td>5</td>\n",
       "      <td>Giannis Antetokounmpo</td>\n",
       "      <td>0.40183</td>\n",
       "    </tr>\n",
       "    <tr>\n",
       "      <th>3</th>\n",
       "      <td>14</td>\n",
       "      <td>Joel Embiid</td>\n",
       "      <td>0.35278</td>\n",
       "    </tr>\n",
       "    <tr>\n",
       "      <th>4</th>\n",
       "      <td>17</td>\n",
       "      <td>Stephen Curry</td>\n",
       "      <td>0.276354</td>\n",
       "    </tr>\n",
       "    <tr>\n",
       "      <th>5</th>\n",
       "      <td>18</td>\n",
       "      <td>Jayson Tatum</td>\n",
       "      <td>0.235747</td>\n",
       "    </tr>\n",
       "    <tr>\n",
       "      <th>6</th>\n",
       "      <td>9</td>\n",
       "      <td>Rudy Gobert</td>\n",
       "      <td>0.23316</td>\n",
       "    </tr>\n",
       "    <tr>\n",
       "      <th>7</th>\n",
       "      <td>6</td>\n",
       "      <td>LeBron James</td>\n",
       "      <td>0.132205</td>\n",
       "    </tr>\n",
       "    <tr>\n",
       "      <th>8</th>\n",
       "      <td>12</td>\n",
       "      <td>Trae Young</td>\n",
       "      <td>0.120841</td>\n",
       "    </tr>\n",
       "    <tr>\n",
       "      <th>9</th>\n",
       "      <td>11</td>\n",
       "      <td>DeMar DeRozan</td>\n",
       "      <td>0.111104</td>\n",
       "    </tr>\n",
       "    <tr>\n",
       "      <th>10</th>\n",
       "      <td>3</td>\n",
       "      <td>Kevin Durant</td>\n",
       "      <td>0.102478</td>\n",
       "    </tr>\n",
       "    <tr>\n",
       "      <th>11</th>\n",
       "      <td>19</td>\n",
       "      <td>Luka Dončić</td>\n",
       "      <td>0.095553</td>\n",
       "    </tr>\n",
       "    <tr>\n",
       "      <th>12</th>\n",
       "      <td>16</td>\n",
       "      <td>Karl-Anthony Towns</td>\n",
       "      <td>0.070433</td>\n",
       "    </tr>\n",
       "    <tr>\n",
       "      <th>13</th>\n",
       "      <td>2</td>\n",
       "      <td>Jimmy Butler</td>\n",
       "      <td>0.044126</td>\n",
       "    </tr>\n",
       "    <tr>\n",
       "      <th>14</th>\n",
       "      <td>0</td>\n",
       "      <td>Fred VanVleet</td>\n",
       "      <td>0.027398</td>\n",
       "    </tr>\n",
       "    <tr>\n",
       "      <th>15</th>\n",
       "      <td>1</td>\n",
       "      <td>Ja Morant</td>\n",
       "      <td>0.024654</td>\n",
       "    </tr>\n",
       "    <tr>\n",
       "      <th>16</th>\n",
       "      <td>10</td>\n",
       "      <td>Donovan Mitchell</td>\n",
       "      <td>0.021348</td>\n",
       "    </tr>\n",
       "    <tr>\n",
       "      <th>17</th>\n",
       "      <td>7</td>\n",
       "      <td>Devin Booker</td>\n",
       "      <td>0.020843</td>\n",
       "    </tr>\n",
       "    <tr>\n",
       "      <th>18</th>\n",
       "      <td>15</td>\n",
       "      <td>Dejounte Murray</td>\n",
       "      <td>0.016527</td>\n",
       "    </tr>\n",
       "    <tr>\n",
       "      <th>19</th>\n",
       "      <td>4</td>\n",
       "      <td>James Harden</td>\n",
       "      <td>0.013372</td>\n",
       "    </tr>\n",
       "  </tbody>\n",
       "</table>\n",
       "</div>"
      ],
      "text/plain": [
       "    index                 player share_pred\n",
       "0       8             Chris Paul    0.46407\n",
       "1      13           Nikola Jokić    0.41442\n",
       "2       5  Giannis Antetokounmpo    0.40183\n",
       "3      14            Joel Embiid    0.35278\n",
       "4      17          Stephen Curry   0.276354\n",
       "5      18           Jayson Tatum   0.235747\n",
       "6       9            Rudy Gobert    0.23316\n",
       "7       6           LeBron James   0.132205\n",
       "8      12             Trae Young   0.120841\n",
       "9      11          DeMar DeRozan   0.111104\n",
       "10      3           Kevin Durant   0.102478\n",
       "11     19            Luka Dončić   0.095553\n",
       "12     16     Karl-Anthony Towns   0.070433\n",
       "13      2           Jimmy Butler   0.044126\n",
       "14      0          Fred VanVleet   0.027398\n",
       "15      1              Ja Morant   0.024654\n",
       "16     10       Donovan Mitchell   0.021348\n",
       "17      7           Devin Booker   0.020843\n",
       "18     15        Dejounte Murray   0.016527\n",
       "19      4           James Harden   0.013372"
      ]
     },
     "execution_count": 159,
     "metadata": {},
     "output_type": "execute_result"
    }
   ],
   "source": [
    "results_22_rf.sort_values('share_pred', ascending = False).reset_index()"
   ]
  },
  {
   "cell_type": "markdown",
   "metadata": {},
   "source": [
    "#### **c. kNN**"
   ]
  },
  {
   "cell_type": "markdown",
   "metadata": {},
   "source": [
    "##### *1. Training and performances*"
   ]
  },
  {
   "cell_type": "code",
   "execution_count": 160,
   "metadata": {},
   "outputs": [
    {
     "data": {
      "text/plain": [
       "{'mean_fit_time': array([0.0019094 , 0.00151882, 0.0014616 , 0.00167141, 0.00160465]),\n",
       " 'std_fit_time': array([5.46410207e-04, 1.46859234e-04, 6.79944708e-05, 3.17851137e-04,\n",
       "        2.59806011e-04]),\n",
       " 'mean_score_time': array([0.00244718, 0.00256562, 0.0025651 , 0.0026032 , 0.002741  ]),\n",
       " 'std_score_time': array([0.00032984, 0.00040471, 0.00024945, 0.00025781, 0.00043652]),\n",
       " 'param_n_neighbors': masked_array(data=[5, 10, 15, 20, 25],\n",
       "              mask=[False, False, False, False, False],\n",
       "        fill_value='?',\n",
       "             dtype=object),\n",
       " 'params': [{'n_neighbors': 5},\n",
       "  {'n_neighbors': 10},\n",
       "  {'n_neighbors': 15},\n",
       "  {'n_neighbors': 20},\n",
       "  {'n_neighbors': 25}],\n",
       " 'split0_test_score': array([0.56908011, 0.49773332, 0.46586461, 0.46982158, 0.44276721]),\n",
       " 'split1_test_score': array([0.48863241, 0.43663575, 0.47790827, 0.47697713, 0.47746744]),\n",
       " 'split2_test_score': array([0.58608501, 0.59338538, 0.6051257 , 0.59102939, 0.58348381]),\n",
       " 'split3_test_score': array([0.53422154, 0.49931706, 0.47437645, 0.475472  , 0.4741803 ]),\n",
       " 'split4_test_score': array([0.54312707, 0.51644652, 0.50368957, 0.50353265, 0.49461705]),\n",
       " 'mean_test_score': array([0.54422923, 0.50870361, 0.50539292, 0.50336655, 0.49450316]),\n",
       " 'std_test_score': array([0.0333522 , 0.05026567, 0.0514382 , 0.04535322, 0.04753401]),\n",
       " 'rank_test_score': array([1, 2, 3, 4, 5], dtype=int32)}"
      ]
     },
     "execution_count": 160,
     "metadata": {},
     "output_type": "execute_result"
    }
   ],
   "source": [
    "from sklearn.neighbors import KNeighborsRegressor\n",
    "\n",
    "reg_kNN = KNeighborsRegressor()\n",
    "\n",
    "param_kNN = {\n",
    "                'n_neighbors' : np.array([5, 10, 15, 20, 25]),\n",
    "            }\n",
    "\n",
    "reg_kNN_CV = GridSearchCV(reg_kNN, param_kNN)\n",
    "\n",
    "reg_kNN_CV.fit(X_train_reg, y_train_reg)\n",
    "\n",
    "reg_kNN_CV.cv_results_"
   ]
  },
  {
   "cell_type": "code",
   "execution_count": 161,
   "metadata": {},
   "outputs": [
    {
     "data": {
      "text/plain": [
       "0.6322285053947526"
      ]
     },
     "execution_count": 161,
     "metadata": {},
     "output_type": "execute_result"
    }
   ],
   "source": [
    "reg_kNN_best = reg_kNN_CV.best_estimator_\n",
    "\n",
    "reg_kNN_best.score(X_test_reg, y_test_reg)"
   ]
  },
  {
   "cell_type": "markdown",
   "metadata": {},
   "source": [
    "##### *2. Prediction for 2021-2022 season*"
   ]
  },
  {
   "cell_type": "code",
   "execution_count": 162,
   "metadata": {},
   "outputs": [],
   "source": [
    "y_pred_22_kNN = reg_kNN_best.predict(X_22_reg)"
   ]
  },
  {
   "cell_type": "code",
   "execution_count": 163,
   "metadata": {},
   "outputs": [],
   "source": [
    "results_22_kNN = pd.DataFrame(np.vstack((Player_22_reg.to_numpy().transpose(), y_pred_22_kNN)).transpose(), columns = ['player', 'share_pred'])"
   ]
  },
  {
   "cell_type": "code",
   "execution_count": 164,
   "metadata": {},
   "outputs": [
    {
     "data": {
      "text/html": [
       "<div>\n",
       "<style scoped>\n",
       "    .dataframe tbody tr th:only-of-type {\n",
       "        vertical-align: middle;\n",
       "    }\n",
       "\n",
       "    .dataframe tbody tr th {\n",
       "        vertical-align: top;\n",
       "    }\n",
       "\n",
       "    .dataframe thead th {\n",
       "        text-align: right;\n",
       "    }\n",
       "</style>\n",
       "<table border=\"1\" class=\"dataframe\">\n",
       "  <thead>\n",
       "    <tr style=\"text-align: right;\">\n",
       "      <th></th>\n",
       "      <th>index</th>\n",
       "      <th>player</th>\n",
       "      <th>share_pred</th>\n",
       "    </tr>\n",
       "  </thead>\n",
       "  <tbody>\n",
       "    <tr>\n",
       "      <th>0</th>\n",
       "      <td>5</td>\n",
       "      <td>Giannis Antetokounmpo</td>\n",
       "      <td>0.4554</td>\n",
       "    </tr>\n",
       "    <tr>\n",
       "      <th>1</th>\n",
       "      <td>13</td>\n",
       "      <td>Nikola Jokić</td>\n",
       "      <td>0.4142</td>\n",
       "    </tr>\n",
       "    <tr>\n",
       "      <th>2</th>\n",
       "      <td>8</td>\n",
       "      <td>Chris Paul</td>\n",
       "      <td>0.3368</td>\n",
       "    </tr>\n",
       "    <tr>\n",
       "      <th>3</th>\n",
       "      <td>17</td>\n",
       "      <td>Stephen Curry</td>\n",
       "      <td>0.222</td>\n",
       "    </tr>\n",
       "    <tr>\n",
       "      <th>4</th>\n",
       "      <td>9</td>\n",
       "      <td>Rudy Gobert</td>\n",
       "      <td>0.2058</td>\n",
       "    </tr>\n",
       "    <tr>\n",
       "      <th>5</th>\n",
       "      <td>10</td>\n",
       "      <td>Donovan Mitchell</td>\n",
       "      <td>0.1398</td>\n",
       "    </tr>\n",
       "    <tr>\n",
       "      <th>6</th>\n",
       "      <td>14</td>\n",
       "      <td>Joel Embiid</td>\n",
       "      <td>0.1326</td>\n",
       "    </tr>\n",
       "    <tr>\n",
       "      <th>7</th>\n",
       "      <td>11</td>\n",
       "      <td>DeMar DeRozan</td>\n",
       "      <td>0.1098</td>\n",
       "    </tr>\n",
       "    <tr>\n",
       "      <th>8</th>\n",
       "      <td>6</td>\n",
       "      <td>LeBron James</td>\n",
       "      <td>0.1092</td>\n",
       "    </tr>\n",
       "    <tr>\n",
       "      <th>9</th>\n",
       "      <td>7</td>\n",
       "      <td>Devin Booker</td>\n",
       "      <td>0.1028</td>\n",
       "    </tr>\n",
       "    <tr>\n",
       "      <th>10</th>\n",
       "      <td>3</td>\n",
       "      <td>Kevin Durant</td>\n",
       "      <td>0.0996</td>\n",
       "    </tr>\n",
       "    <tr>\n",
       "      <th>11</th>\n",
       "      <td>1</td>\n",
       "      <td>Ja Morant</td>\n",
       "      <td>0.0588</td>\n",
       "    </tr>\n",
       "    <tr>\n",
       "      <th>12</th>\n",
       "      <td>4</td>\n",
       "      <td>James Harden</td>\n",
       "      <td>0.051</td>\n",
       "    </tr>\n",
       "    <tr>\n",
       "      <th>13</th>\n",
       "      <td>15</td>\n",
       "      <td>Dejounte Murray</td>\n",
       "      <td>0.0468</td>\n",
       "    </tr>\n",
       "    <tr>\n",
       "      <th>14</th>\n",
       "      <td>16</td>\n",
       "      <td>Karl-Anthony Towns</td>\n",
       "      <td>0.043</td>\n",
       "    </tr>\n",
       "    <tr>\n",
       "      <th>15</th>\n",
       "      <td>19</td>\n",
       "      <td>Luka Dončić</td>\n",
       "      <td>0.0338</td>\n",
       "    </tr>\n",
       "    <tr>\n",
       "      <th>16</th>\n",
       "      <td>18</td>\n",
       "      <td>Jayson Tatum</td>\n",
       "      <td>0.022</td>\n",
       "    </tr>\n",
       "    <tr>\n",
       "      <th>17</th>\n",
       "      <td>12</td>\n",
       "      <td>Trae Young</td>\n",
       "      <td>0.019</td>\n",
       "    </tr>\n",
       "    <tr>\n",
       "      <th>18</th>\n",
       "      <td>2</td>\n",
       "      <td>Jimmy Butler</td>\n",
       "      <td>0.0078</td>\n",
       "    </tr>\n",
       "    <tr>\n",
       "      <th>19</th>\n",
       "      <td>0</td>\n",
       "      <td>Fred VanVleet</td>\n",
       "      <td>0.0072</td>\n",
       "    </tr>\n",
       "  </tbody>\n",
       "</table>\n",
       "</div>"
      ],
      "text/plain": [
       "    index                 player share_pred\n",
       "0       5  Giannis Antetokounmpo     0.4554\n",
       "1      13           Nikola Jokić     0.4142\n",
       "2       8             Chris Paul     0.3368\n",
       "3      17          Stephen Curry      0.222\n",
       "4       9            Rudy Gobert     0.2058\n",
       "5      10       Donovan Mitchell     0.1398\n",
       "6      14            Joel Embiid     0.1326\n",
       "7      11          DeMar DeRozan     0.1098\n",
       "8       6           LeBron James     0.1092\n",
       "9       7           Devin Booker     0.1028\n",
       "10      3           Kevin Durant     0.0996\n",
       "11      1              Ja Morant     0.0588\n",
       "12      4           James Harden      0.051\n",
       "13     15        Dejounte Murray     0.0468\n",
       "14     16     Karl-Anthony Towns      0.043\n",
       "15     19            Luka Dončić     0.0338\n",
       "16     18           Jayson Tatum      0.022\n",
       "17     12             Trae Young      0.019\n",
       "18      2           Jimmy Butler     0.0078\n",
       "19      0          Fred VanVleet     0.0072"
      ]
     },
     "execution_count": 164,
     "metadata": {},
     "output_type": "execute_result"
    }
   ],
   "source": [
    "results_22_kNN.sort_values('share_pred', ascending = False).reset_index()"
   ]
  },
  {
   "cell_type": "markdown",
   "metadata": {},
   "source": [
    "#### **d. Deep Neural Network**"
   ]
  },
  {
   "cell_type": "markdown",
   "metadata": {},
   "source": [
    "##### *1. Training and performances*"
   ]
  },
  {
   "cell_type": "code",
   "execution_count": 165,
   "metadata": {},
   "outputs": [
    {
     "name": "stderr",
     "output_type": "stream",
     "text": [
      "/Library/Frameworks/Python.framework/Versions/3.10/lib/python3.10/site-packages/sklearn/neural_network/_multilayer_perceptron.py:692: ConvergenceWarning: Stochastic Optimizer: Maximum iterations (200) reached and the optimization hasn't converged yet.\n",
      "  warnings.warn(\n"
     ]
    },
    {
     "data": {
      "text/plain": [
       "{'mean_fit_time': array([0.18668866, 0.23550262, 0.30830817, 0.12244186, 0.08749719,\n",
       "        0.16581197]),\n",
       " 'std_fit_time': array([0.03647668, 0.06943431, 0.11903702, 0.05106212, 0.01392922,\n",
       "        0.07491099]),\n",
       " 'mean_score_time': array([0.00159202, 0.00214415, 0.001548  , 0.00212555, 0.00162277,\n",
       "        0.00229225]),\n",
       " 'std_score_time': array([3.41619552e-04, 9.89291346e-04, 3.84084561e-05, 3.36826894e-04,\n",
       "        4.85797615e-05, 7.55840995e-04]),\n",
       " 'param_activation': masked_array(data=['relu', 'relu', 'relu', 'logistic', 'logistic',\n",
       "                    'logistic'],\n",
       "              mask=[False, False, False, False, False, False],\n",
       "        fill_value='?',\n",
       "             dtype=object),\n",
       " 'param_hidden_layer_sizes': masked_array(data=[50, 100, 200, 50, 100, 200],\n",
       "              mask=[False, False, False, False, False, False],\n",
       "        fill_value='?',\n",
       "             dtype=object),\n",
       " 'params': [{'activation': 'relu', 'hidden_layer_sizes': 50},\n",
       "  {'activation': 'relu', 'hidden_layer_sizes': 100},\n",
       "  {'activation': 'relu', 'hidden_layer_sizes': 200},\n",
       "  {'activation': 'logistic', 'hidden_layer_sizes': 50},\n",
       "  {'activation': 'logistic', 'hidden_layer_sizes': 100},\n",
       "  {'activation': 'logistic', 'hidden_layer_sizes': 200}],\n",
       " 'split0_test_score': array([0.49575518, 0.50958075, 0.61432189, 0.4234692 , 0.47463002,\n",
       "        0.46528183]),\n",
       " 'split1_test_score': array([0.4636018 , 0.41526988, 0.46027785, 0.43504037, 0.39992733,\n",
       "        0.43105392]),\n",
       " 'split2_test_score': array([0.30299068, 0.46424441, 0.51725596, 0.38463663, 0.35732364,\n",
       "        0.39412119]),\n",
       " 'split3_test_score': array([0.46438189, 0.55799985, 0.44093187, 0.49016843, 0.40300481,\n",
       "        0.44778781]),\n",
       " 'split4_test_score': array([0.46219881, 0.54973787, 0.55971317, 0.41973401, 0.46484298,\n",
       "        0.47354697]),\n",
       " 'mean_test_score': array([0.43778567, 0.49936655, 0.51850015, 0.43060973, 0.41994575,\n",
       "        0.44235834]),\n",
       " 'std_test_score': array([0.06855653, 0.05363819, 0.06370014, 0.03420428, 0.04385292,\n",
       "        0.02822165]),\n",
       " 'rank_test_score': array([4, 2, 1, 5, 6, 3], dtype=int32)}"
      ]
     },
     "execution_count": 165,
     "metadata": {},
     "output_type": "execute_result"
    }
   ],
   "source": [
    "from sklearn.neural_network import MLPRegressor\n",
    "\n",
    "reg_DNN = MLPRegressor()\n",
    "\n",
    "param_DNN = {\n",
    "                'hidden_layer_sizes' : np.array([50, 100, 200]),\n",
    "                'activation' : np.array(['relu', 'logistic'])\n",
    "            }\n",
    "\n",
    "reg_DNN_CV = GridSearchCV(reg_DNN, param_DNN)\n",
    "\n",
    "reg_DNN_CV.fit(X_train_reg, y_train_reg)\n",
    "\n",
    "reg_DNN_CV.cv_results_"
   ]
  },
  {
   "cell_type": "code",
   "execution_count": 166,
   "metadata": {},
   "outputs": [
    {
     "data": {
      "text/plain": [
       "0.730148046632838"
      ]
     },
     "execution_count": 166,
     "metadata": {},
     "output_type": "execute_result"
    }
   ],
   "source": [
    "reg_DNN_best = reg_DNN_CV.best_estimator_\n",
    "\n",
    "reg_DNN_best.score(X_test_reg, y_test_reg)"
   ]
  },
  {
   "cell_type": "markdown",
   "metadata": {},
   "source": [
    "##### *2. Prediction for 2021-2022 season*"
   ]
  },
  {
   "cell_type": "code",
   "execution_count": 167,
   "metadata": {},
   "outputs": [],
   "source": [
    "y_pred_22_DNN = reg_DNN_best.predict(X_22_reg)"
   ]
  },
  {
   "cell_type": "code",
   "execution_count": 168,
   "metadata": {},
   "outputs": [],
   "source": [
    "results_22_DNN = pd.DataFrame(np.vstack((Player_22_reg.to_numpy().transpose(), y_pred_22_DNN)).transpose(), columns = ['player', 'share_pred'])"
   ]
  },
  {
   "cell_type": "code",
   "execution_count": 169,
   "metadata": {},
   "outputs": [
    {
     "data": {
      "text/html": [
       "<div>\n",
       "<style scoped>\n",
       "    .dataframe tbody tr th:only-of-type {\n",
       "        vertical-align: middle;\n",
       "    }\n",
       "\n",
       "    .dataframe tbody tr th {\n",
       "        vertical-align: top;\n",
       "    }\n",
       "\n",
       "    .dataframe thead th {\n",
       "        text-align: right;\n",
       "    }\n",
       "</style>\n",
       "<table border=\"1\" class=\"dataframe\">\n",
       "  <thead>\n",
       "    <tr style=\"text-align: right;\">\n",
       "      <th></th>\n",
       "      <th>player</th>\n",
       "      <th>share_pred</th>\n",
       "    </tr>\n",
       "  </thead>\n",
       "  <tbody>\n",
       "    <tr>\n",
       "      <th>5</th>\n",
       "      <td>Giannis Antetokounmpo</td>\n",
       "      <td>0.541975</td>\n",
       "    </tr>\n",
       "    <tr>\n",
       "      <th>13</th>\n",
       "      <td>Nikola Jokić</td>\n",
       "      <td>0.469577</td>\n",
       "    </tr>\n",
       "    <tr>\n",
       "      <th>14</th>\n",
       "      <td>Joel Embiid</td>\n",
       "      <td>0.430838</td>\n",
       "    </tr>\n",
       "    <tr>\n",
       "      <th>17</th>\n",
       "      <td>Stephen Curry</td>\n",
       "      <td>0.294787</td>\n",
       "    </tr>\n",
       "    <tr>\n",
       "      <th>8</th>\n",
       "      <td>Chris Paul</td>\n",
       "      <td>0.254633</td>\n",
       "    </tr>\n",
       "    <tr>\n",
       "      <th>11</th>\n",
       "      <td>DeMar DeRozan</td>\n",
       "      <td>0.252655</td>\n",
       "    </tr>\n",
       "    <tr>\n",
       "      <th>9</th>\n",
       "      <td>Rudy Gobert</td>\n",
       "      <td>0.188266</td>\n",
       "    </tr>\n",
       "    <tr>\n",
       "      <th>2</th>\n",
       "      <td>Jimmy Butler</td>\n",
       "      <td>0.17094</td>\n",
       "    </tr>\n",
       "    <tr>\n",
       "      <th>1</th>\n",
       "      <td>Ja Morant</td>\n",
       "      <td>0.159496</td>\n",
       "    </tr>\n",
       "    <tr>\n",
       "      <th>6</th>\n",
       "      <td>LeBron James</td>\n",
       "      <td>0.155334</td>\n",
       "    </tr>\n",
       "    <tr>\n",
       "      <th>3</th>\n",
       "      <td>Kevin Durant</td>\n",
       "      <td>0.141863</td>\n",
       "    </tr>\n",
       "    <tr>\n",
       "      <th>19</th>\n",
       "      <td>Luka Dončić</td>\n",
       "      <td>0.083458</td>\n",
       "    </tr>\n",
       "    <tr>\n",
       "      <th>7</th>\n",
       "      <td>Devin Booker</td>\n",
       "      <td>0.060183</td>\n",
       "    </tr>\n",
       "    <tr>\n",
       "      <th>4</th>\n",
       "      <td>James Harden</td>\n",
       "      <td>0.041439</td>\n",
       "    </tr>\n",
       "    <tr>\n",
       "      <th>18</th>\n",
       "      <td>Jayson Tatum</td>\n",
       "      <td>0.035147</td>\n",
       "    </tr>\n",
       "    <tr>\n",
       "      <th>16</th>\n",
       "      <td>Karl-Anthony Towns</td>\n",
       "      <td>0.011699</td>\n",
       "    </tr>\n",
       "    <tr>\n",
       "      <th>0</th>\n",
       "      <td>Fred VanVleet</td>\n",
       "      <td>0.003942</td>\n",
       "    </tr>\n",
       "    <tr>\n",
       "      <th>10</th>\n",
       "      <td>Donovan Mitchell</td>\n",
       "      <td>-0.03923</td>\n",
       "    </tr>\n",
       "    <tr>\n",
       "      <th>12</th>\n",
       "      <td>Trae Young</td>\n",
       "      <td>-0.066304</td>\n",
       "    </tr>\n",
       "    <tr>\n",
       "      <th>15</th>\n",
       "      <td>Dejounte Murray</td>\n",
       "      <td>-0.070956</td>\n",
       "    </tr>\n",
       "  </tbody>\n",
       "</table>\n",
       "</div>"
      ],
      "text/plain": [
       "                   player share_pred\n",
       "5   Giannis Antetokounmpo   0.541975\n",
       "13           Nikola Jokić   0.469577\n",
       "14            Joel Embiid   0.430838\n",
       "17          Stephen Curry   0.294787\n",
       "8              Chris Paul   0.254633\n",
       "11          DeMar DeRozan   0.252655\n",
       "9             Rudy Gobert   0.188266\n",
       "2            Jimmy Butler    0.17094\n",
       "1               Ja Morant   0.159496\n",
       "6            LeBron James   0.155334\n",
       "3            Kevin Durant   0.141863\n",
       "19            Luka Dončić   0.083458\n",
       "7            Devin Booker   0.060183\n",
       "4            James Harden   0.041439\n",
       "18           Jayson Tatum   0.035147\n",
       "16     Karl-Anthony Towns   0.011699\n",
       "0           Fred VanVleet   0.003942\n",
       "10       Donovan Mitchell   -0.03923\n",
       "12             Trae Young  -0.066304\n",
       "15        Dejounte Murray  -0.070956"
      ]
     },
     "execution_count": 169,
     "metadata": {},
     "output_type": "execute_result"
    }
   ],
   "source": [
    "results_22_DNN.sort_values('share_pred', ascending = False)"
   ]
  },
  {
   "cell_type": "markdown",
   "metadata": {},
   "source": [
    "##### *3. Bonus : Accuracy through history*"
   ]
  },
  {
   "cell_type": "markdown",
   "metadata": {},
   "source": [
    "Dowsizing the number of features"
   ]
  },
  {
   "cell_type": "code",
   "execution_count": 170,
   "metadata": {},
   "outputs": [],
   "source": [
    "dataset_bonus = dataset_scaled[dataset_scaled.ShareYN == 1]"
   ]
  },
  {
   "cell_type": "code",
   "execution_count": 171,
   "metadata": {},
   "outputs": [],
   "source": [
    "seasons = list(set(dataset_bonus.Season.values))\n",
    "\n",
    "seasons.sort()\n",
    "\n",
    "Player_reg_bonus = dataset_bonus[['Player', 'Season']].reset_index()\n",
    "X_reg_bonus = dataset_bonus.drop(columns=['Player', 'Season','Tm','MVP_share']).reset_index()\n",
    "y_reg_bonus = dataset_bonus.MVP_share.reset_index()\n",
    "\n",
    "L=[]\n",
    "for season in seasons :\n",
    "    l=[]\n",
    "    l.append(season)\n",
    "    l.append(dataset[(dataset.Season == season)&(dataset.MVP == 1)].Player.values[0])\n",
    "\n",
    "    Player_test = Player_reg_bonus[Player_reg_bonus.Season == season]\n",
    "    \n",
    "    X_test = X_reg_bonus.iloc[list(Player_test.index),:].sort_index()\n",
    "    y_test = y_reg_bonus.iloc[list(Player_test.index),:].sort_index()\n",
    "\n",
    "    Player_train = Player_reg_bonus.drop(Player_test.index).sort_index()\n",
    "    X_train = X_reg_bonus.drop(Player_test.index).sort_index()\n",
    "    y_train = y_reg_bonus.drop(Player_test.index).sort_index()\n",
    "\n",
    "    reg_lin.fit(X_train[features].fillna(0), y_train['MVP_share'])\n",
    "    reg_kNN_best.fit(X_train[features].fillna(0), y_train['MVP_share'])\n",
    "    reg_rf_best.fit(X_train[features].fillna(0), y_train['MVP_share'])\n",
    "    reg_DNN_best.fit(X_train[features].fillna(0), y_train['MVP_share'])\n",
    "\n",
    "    y_pred_lin = reg_lin.predict(X_test[features].fillna(0))\n",
    "    y_pred_rf = reg_rf_best.predict(X_test[features].fillna(0))\n",
    "    y_pred_kNN = reg_kNN_best.predict(X_test[features].fillna(0))\n",
    "    y_pred_DNN = reg_kNN_best.predict(X_test[features].fillna(0))\n",
    "\n",
    "    results = [list(Player_test.Player.values),list(y_pred_lin),list(y_pred_kNN), list(y_pred_rf), list(y_pred_DNN)]\n",
    "\n",
    "    results = np.array(results)\n",
    "\n",
    "    results = pd.DataFrame(results.transpose(), columns = ['player', 'share_pred_lin', 'share_pred_kNN', 'share_pred_rf', 'share_pred_DNN'])\n",
    "\n",
    "\n",
    "    l.append(results[results.share_pred_lin == max(list(results.share_pred_lin.values))].player.values[0])\n",
    "    l.append(results[results.share_pred_kNN == max(list(results.share_pred_kNN.values))].player.values[0])\n",
    "    l.append(results[results.share_pred_rf == max(list(results.share_pred_rf.values))].player.values[0])\n",
    "    l.append(results[results.share_pred_DNN == max(list(results.share_pred_DNN.values))].player.values[0])\n",
    "    L.append(l)\n",
    "\n",
    "predictions = pd.DataFrame(L, columns = ['Season', 'Actual MVP', 'Predicted MVP Lin Reg', 'Predicted MVP kNN', 'Predicted MVP RandFor', 'Predicted MVP DNN'])"
   ]
  },
  {
   "cell_type": "code",
   "execution_count": 172,
   "metadata": {},
   "outputs": [
    {
     "data": {
      "text/html": [
       "<div>\n",
       "<style scoped>\n",
       "    .dataframe tbody tr th:only-of-type {\n",
       "        vertical-align: middle;\n",
       "    }\n",
       "\n",
       "    .dataframe tbody tr th {\n",
       "        vertical-align: top;\n",
       "    }\n",
       "\n",
       "    .dataframe thead th {\n",
       "        text-align: right;\n",
       "    }\n",
       "</style>\n",
       "<table border=\"1\" class=\"dataframe\">\n",
       "  <thead>\n",
       "    <tr style=\"text-align: right;\">\n",
       "      <th></th>\n",
       "      <th>Season</th>\n",
       "      <th>Actual MVP</th>\n",
       "      <th>Predicted MVP Lin Reg</th>\n",
       "      <th>Predicted MVP kNN</th>\n",
       "      <th>Predicted MVP RandFor</th>\n",
       "      <th>Predicted MVP DNN</th>\n",
       "    </tr>\n",
       "  </thead>\n",
       "  <tbody>\n",
       "    <tr>\n",
       "      <th>0</th>\n",
       "      <td>1979-1980</td>\n",
       "      <td>Kareem Abdul-Jabbar</td>\n",
       "      <td>Dennis Johnson</td>\n",
       "      <td>Kareem Abdul-Jabbar</td>\n",
       "      <td>Kareem Abdul-Jabbar</td>\n",
       "      <td>Kareem Abdul-Jabbar</td>\n",
       "    </tr>\n",
       "    <tr>\n",
       "      <th>1</th>\n",
       "      <td>1980-1981</td>\n",
       "      <td>Julius Erving</td>\n",
       "      <td>Julius Erving</td>\n",
       "      <td>Julius Erving</td>\n",
       "      <td>Julius Erving</td>\n",
       "      <td>Julius Erving</td>\n",
       "    </tr>\n",
       "    <tr>\n",
       "      <th>2</th>\n",
       "      <td>1981-1982</td>\n",
       "      <td>Moses Malone</td>\n",
       "      <td>Moses Malone</td>\n",
       "      <td>Julius Erving</td>\n",
       "      <td>Julius Erving</td>\n",
       "      <td>Julius Erving</td>\n",
       "    </tr>\n",
       "    <tr>\n",
       "      <th>3</th>\n",
       "      <td>1982-1983</td>\n",
       "      <td>Moses Malone</td>\n",
       "      <td>Moses Malone</td>\n",
       "      <td>Moses Malone</td>\n",
       "      <td>Moses Malone</td>\n",
       "      <td>Moses Malone</td>\n",
       "    </tr>\n",
       "    <tr>\n",
       "      <th>4</th>\n",
       "      <td>1983-1984</td>\n",
       "      <td>Larry Bird</td>\n",
       "      <td>Larry Bird</td>\n",
       "      <td>Larry Bird</td>\n",
       "      <td>Larry Bird</td>\n",
       "      <td>Larry Bird</td>\n",
       "    </tr>\n",
       "    <tr>\n",
       "      <th>5</th>\n",
       "      <td>1984-1985</td>\n",
       "      <td>Larry Bird</td>\n",
       "      <td>Larry Bird</td>\n",
       "      <td>Larry Bird</td>\n",
       "      <td>Larry Bird</td>\n",
       "      <td>Larry Bird</td>\n",
       "    </tr>\n",
       "    <tr>\n",
       "      <th>6</th>\n",
       "      <td>1985-1986</td>\n",
       "      <td>Larry Bird</td>\n",
       "      <td>Larry Bird</td>\n",
       "      <td>Larry Bird</td>\n",
       "      <td>Larry Bird</td>\n",
       "      <td>Larry Bird</td>\n",
       "    </tr>\n",
       "    <tr>\n",
       "      <th>7</th>\n",
       "      <td>1986-1987</td>\n",
       "      <td>Magic Johnson</td>\n",
       "      <td>Magic Johnson</td>\n",
       "      <td>Larry Bird</td>\n",
       "      <td>Magic Johnson</td>\n",
       "      <td>Larry Bird</td>\n",
       "    </tr>\n",
       "    <tr>\n",
       "      <th>8</th>\n",
       "      <td>1987-1988</td>\n",
       "      <td>Michael Jordan</td>\n",
       "      <td>Michael Jordan</td>\n",
       "      <td>Michael Jordan</td>\n",
       "      <td>Michael Jordan</td>\n",
       "      <td>Michael Jordan</td>\n",
       "    </tr>\n",
       "    <tr>\n",
       "      <th>9</th>\n",
       "      <td>1988-1989</td>\n",
       "      <td>Magic Johnson</td>\n",
       "      <td>Michael Jordan</td>\n",
       "      <td>Michael Jordan</td>\n",
       "      <td>Michael Jordan</td>\n",
       "      <td>Michael Jordan</td>\n",
       "    </tr>\n",
       "    <tr>\n",
       "      <th>10</th>\n",
       "      <td>1989-1990</td>\n",
       "      <td>Magic Johnson</td>\n",
       "      <td>Michael Jordan</td>\n",
       "      <td>Michael Jordan</td>\n",
       "      <td>Magic Johnson</td>\n",
       "      <td>Michael Jordan</td>\n",
       "    </tr>\n",
       "    <tr>\n",
       "      <th>11</th>\n",
       "      <td>1990-1991</td>\n",
       "      <td>Michael Jordan</td>\n",
       "      <td>Michael Jordan</td>\n",
       "      <td>Michael Jordan</td>\n",
       "      <td>Michael Jordan</td>\n",
       "      <td>Michael Jordan</td>\n",
       "    </tr>\n",
       "    <tr>\n",
       "      <th>12</th>\n",
       "      <td>1991-1992</td>\n",
       "      <td>Michael Jordan</td>\n",
       "      <td>Michael Jordan</td>\n",
       "      <td>Michael Jordan</td>\n",
       "      <td>Michael Jordan</td>\n",
       "      <td>Michael Jordan</td>\n",
       "    </tr>\n",
       "    <tr>\n",
       "      <th>13</th>\n",
       "      <td>1992-1993</td>\n",
       "      <td>Charles Barkley</td>\n",
       "      <td>Michael Jordan</td>\n",
       "      <td>Michael Jordan</td>\n",
       "      <td>Michael Jordan</td>\n",
       "      <td>Michael Jordan</td>\n",
       "    </tr>\n",
       "    <tr>\n",
       "      <th>14</th>\n",
       "      <td>1993-1994</td>\n",
       "      <td>Hakeem Olajuwon</td>\n",
       "      <td>David Robinson</td>\n",
       "      <td>David Robinson</td>\n",
       "      <td>David Robinson</td>\n",
       "      <td>David Robinson</td>\n",
       "    </tr>\n",
       "    <tr>\n",
       "      <th>15</th>\n",
       "      <td>1994-1995</td>\n",
       "      <td>David Robinson</td>\n",
       "      <td>David Robinson</td>\n",
       "      <td>David Robinson</td>\n",
       "      <td>David Robinson</td>\n",
       "      <td>David Robinson</td>\n",
       "    </tr>\n",
       "    <tr>\n",
       "      <th>16</th>\n",
       "      <td>1995-1996</td>\n",
       "      <td>Michael Jordan</td>\n",
       "      <td>Michael Jordan</td>\n",
       "      <td>Michael Jordan</td>\n",
       "      <td>Michael Jordan</td>\n",
       "      <td>Michael Jordan</td>\n",
       "    </tr>\n",
       "    <tr>\n",
       "      <th>17</th>\n",
       "      <td>1996-1997</td>\n",
       "      <td>Karl Malone</td>\n",
       "      <td>Michael Jordan</td>\n",
       "      <td>Michael Jordan</td>\n",
       "      <td>Michael Jordan</td>\n",
       "      <td>Michael Jordan</td>\n",
       "    </tr>\n",
       "    <tr>\n",
       "      <th>18</th>\n",
       "      <td>1997-1998</td>\n",
       "      <td>Michael Jordan</td>\n",
       "      <td>Karl Malone</td>\n",
       "      <td>Karl Malone</td>\n",
       "      <td>Karl Malone</td>\n",
       "      <td>Karl Malone</td>\n",
       "    </tr>\n",
       "    <tr>\n",
       "      <th>19</th>\n",
       "      <td>1998-1999</td>\n",
       "      <td>Karl Malone</td>\n",
       "      <td>Karl Malone</td>\n",
       "      <td>Tim Duncan</td>\n",
       "      <td>Karl Malone</td>\n",
       "      <td>Tim Duncan</td>\n",
       "    </tr>\n",
       "    <tr>\n",
       "      <th>20</th>\n",
       "      <td>1999-2000</td>\n",
       "      <td>Shaquille O'Neal</td>\n",
       "      <td>Shaquille O'Neal</td>\n",
       "      <td>Shaquille O'Neal</td>\n",
       "      <td>Shaquille O'Neal</td>\n",
       "      <td>Shaquille O'Neal</td>\n",
       "    </tr>\n",
       "    <tr>\n",
       "      <th>21</th>\n",
       "      <td>2000-2001</td>\n",
       "      <td>Allen Iverson</td>\n",
       "      <td>Shaquille O'Neal</td>\n",
       "      <td>Shaquille O'Neal</td>\n",
       "      <td>Shaquille O'Neal</td>\n",
       "      <td>Shaquille O'Neal</td>\n",
       "    </tr>\n",
       "    <tr>\n",
       "      <th>22</th>\n",
       "      <td>2001-2002</td>\n",
       "      <td>Tim Duncan</td>\n",
       "      <td>Tim Duncan</td>\n",
       "      <td>Tim Duncan</td>\n",
       "      <td>Tim Duncan</td>\n",
       "      <td>Tim Duncan</td>\n",
       "    </tr>\n",
       "    <tr>\n",
       "      <th>23</th>\n",
       "      <td>2002-2003</td>\n",
       "      <td>Tim Duncan</td>\n",
       "      <td>Tim Duncan</td>\n",
       "      <td>Dirk Nowitzki</td>\n",
       "      <td>Tim Duncan</td>\n",
       "      <td>Dirk Nowitzki</td>\n",
       "    </tr>\n",
       "    <tr>\n",
       "      <th>24</th>\n",
       "      <td>2003-2004</td>\n",
       "      <td>Kevin Garnett</td>\n",
       "      <td>Kevin Garnett</td>\n",
       "      <td>Kevin Garnett</td>\n",
       "      <td>Kevin Garnett</td>\n",
       "      <td>Kevin Garnett</td>\n",
       "    </tr>\n",
       "    <tr>\n",
       "      <th>25</th>\n",
       "      <td>2004-2005</td>\n",
       "      <td>Steve Nash</td>\n",
       "      <td>Dirk Nowitzki</td>\n",
       "      <td>Dirk Nowitzki</td>\n",
       "      <td>Dirk Nowitzki</td>\n",
       "      <td>Dirk Nowitzki</td>\n",
       "    </tr>\n",
       "    <tr>\n",
       "      <th>26</th>\n",
       "      <td>2005-2006</td>\n",
       "      <td>Steve Nash</td>\n",
       "      <td>LeBron James</td>\n",
       "      <td>Dirk Nowitzki</td>\n",
       "      <td>Dirk Nowitzki</td>\n",
       "      <td>Dirk Nowitzki</td>\n",
       "    </tr>\n",
       "    <tr>\n",
       "      <th>27</th>\n",
       "      <td>2006-2007</td>\n",
       "      <td>Dirk Nowitzki</td>\n",
       "      <td>Dirk Nowitzki</td>\n",
       "      <td>Dirk Nowitzki</td>\n",
       "      <td>Dirk Nowitzki</td>\n",
       "      <td>Dirk Nowitzki</td>\n",
       "    </tr>\n",
       "    <tr>\n",
       "      <th>28</th>\n",
       "      <td>2007-2008</td>\n",
       "      <td>Kobe Bryant</td>\n",
       "      <td>Chris Paul</td>\n",
       "      <td>Kobe Bryant</td>\n",
       "      <td>Chris Paul</td>\n",
       "      <td>Kobe Bryant</td>\n",
       "    </tr>\n",
       "    <tr>\n",
       "      <th>29</th>\n",
       "      <td>2008-2009</td>\n",
       "      <td>LeBron James</td>\n",
       "      <td>LeBron James</td>\n",
       "      <td>LeBron James</td>\n",
       "      <td>LeBron James</td>\n",
       "      <td>LeBron James</td>\n",
       "    </tr>\n",
       "    <tr>\n",
       "      <th>30</th>\n",
       "      <td>2009-2010</td>\n",
       "      <td>LeBron James</td>\n",
       "      <td>LeBron James</td>\n",
       "      <td>LeBron James</td>\n",
       "      <td>LeBron James</td>\n",
       "      <td>LeBron James</td>\n",
       "    </tr>\n",
       "    <tr>\n",
       "      <th>31</th>\n",
       "      <td>2010-2011</td>\n",
       "      <td>Derrick Rose</td>\n",
       "      <td>LeBron James</td>\n",
       "      <td>LeBron James</td>\n",
       "      <td>LeBron James</td>\n",
       "      <td>LeBron James</td>\n",
       "    </tr>\n",
       "    <tr>\n",
       "      <th>32</th>\n",
       "      <td>2011-2012</td>\n",
       "      <td>LeBron James</td>\n",
       "      <td>LeBron James</td>\n",
       "      <td>LeBron James</td>\n",
       "      <td>LeBron James</td>\n",
       "      <td>LeBron James</td>\n",
       "    </tr>\n",
       "    <tr>\n",
       "      <th>33</th>\n",
       "      <td>2012-2013</td>\n",
       "      <td>LeBron James</td>\n",
       "      <td>LeBron James</td>\n",
       "      <td>LeBron James</td>\n",
       "      <td>LeBron James</td>\n",
       "      <td>LeBron James</td>\n",
       "    </tr>\n",
       "    <tr>\n",
       "      <th>34</th>\n",
       "      <td>2013-2014</td>\n",
       "      <td>Kevin Durant</td>\n",
       "      <td>Kevin Durant</td>\n",
       "      <td>Kevin Durant</td>\n",
       "      <td>Kevin Durant</td>\n",
       "      <td>Kevin Durant</td>\n",
       "    </tr>\n",
       "    <tr>\n",
       "      <th>35</th>\n",
       "      <td>2014-2015</td>\n",
       "      <td>Stephen Curry</td>\n",
       "      <td>James Harden</td>\n",
       "      <td>Stephen Curry</td>\n",
       "      <td>Stephen Curry</td>\n",
       "      <td>Stephen Curry</td>\n",
       "    </tr>\n",
       "    <tr>\n",
       "      <th>36</th>\n",
       "      <td>2015-2016</td>\n",
       "      <td>Stephen Curry</td>\n",
       "      <td>Stephen Curry</td>\n",
       "      <td>Stephen Curry</td>\n",
       "      <td>Stephen Curry</td>\n",
       "      <td>Stephen Curry</td>\n",
       "    </tr>\n",
       "    <tr>\n",
       "      <th>37</th>\n",
       "      <td>2016-2017</td>\n",
       "      <td>Russell Westbrook</td>\n",
       "      <td>Russell Westbrook</td>\n",
       "      <td>James Harden</td>\n",
       "      <td>Kawhi Leonard</td>\n",
       "      <td>James Harden</td>\n",
       "    </tr>\n",
       "    <tr>\n",
       "      <th>38</th>\n",
       "      <td>2017-2018</td>\n",
       "      <td>James Harden</td>\n",
       "      <td>James Harden</td>\n",
       "      <td>James Harden</td>\n",
       "      <td>James Harden</td>\n",
       "      <td>James Harden</td>\n",
       "    </tr>\n",
       "    <tr>\n",
       "      <th>39</th>\n",
       "      <td>2018-2019</td>\n",
       "      <td>Giannis Antetokounmpo</td>\n",
       "      <td>James Harden</td>\n",
       "      <td>Giannis Antetokounmpo</td>\n",
       "      <td>Giannis Antetokounmpo</td>\n",
       "      <td>Giannis Antetokounmpo</td>\n",
       "    </tr>\n",
       "    <tr>\n",
       "      <th>40</th>\n",
       "      <td>2019-2020</td>\n",
       "      <td>Giannis Antetokounmpo</td>\n",
       "      <td>Giannis Antetokounmpo</td>\n",
       "      <td>Giannis Antetokounmpo</td>\n",
       "      <td>Giannis Antetokounmpo</td>\n",
       "      <td>Giannis Antetokounmpo</td>\n",
       "    </tr>\n",
       "    <tr>\n",
       "      <th>41</th>\n",
       "      <td>2020-2021</td>\n",
       "      <td>Nikola Jokić</td>\n",
       "      <td>Nikola Jokić</td>\n",
       "      <td>Nikola Jokić</td>\n",
       "      <td>Nikola Jokić</td>\n",
       "      <td>Nikola Jokić</td>\n",
       "    </tr>\n",
       "  </tbody>\n",
       "</table>\n",
       "</div>"
      ],
      "text/plain": [
       "       Season             Actual MVP  Predicted MVP Lin Reg  \\\n",
       "0   1979-1980    Kareem Abdul-Jabbar         Dennis Johnson   \n",
       "1   1980-1981          Julius Erving          Julius Erving   \n",
       "2   1981-1982           Moses Malone           Moses Malone   \n",
       "3   1982-1983           Moses Malone           Moses Malone   \n",
       "4   1983-1984             Larry Bird             Larry Bird   \n",
       "5   1984-1985             Larry Bird             Larry Bird   \n",
       "6   1985-1986             Larry Bird             Larry Bird   \n",
       "7   1986-1987          Magic Johnson          Magic Johnson   \n",
       "8   1987-1988         Michael Jordan         Michael Jordan   \n",
       "9   1988-1989          Magic Johnson         Michael Jordan   \n",
       "10  1989-1990          Magic Johnson         Michael Jordan   \n",
       "11  1990-1991         Michael Jordan         Michael Jordan   \n",
       "12  1991-1992         Michael Jordan         Michael Jordan   \n",
       "13  1992-1993        Charles Barkley         Michael Jordan   \n",
       "14  1993-1994        Hakeem Olajuwon         David Robinson   \n",
       "15  1994-1995         David Robinson         David Robinson   \n",
       "16  1995-1996         Michael Jordan         Michael Jordan   \n",
       "17  1996-1997            Karl Malone         Michael Jordan   \n",
       "18  1997-1998         Michael Jordan            Karl Malone   \n",
       "19  1998-1999            Karl Malone            Karl Malone   \n",
       "20  1999-2000       Shaquille O'Neal       Shaquille O'Neal   \n",
       "21  2000-2001          Allen Iverson       Shaquille O'Neal   \n",
       "22  2001-2002             Tim Duncan             Tim Duncan   \n",
       "23  2002-2003             Tim Duncan             Tim Duncan   \n",
       "24  2003-2004          Kevin Garnett          Kevin Garnett   \n",
       "25  2004-2005             Steve Nash          Dirk Nowitzki   \n",
       "26  2005-2006             Steve Nash           LeBron James   \n",
       "27  2006-2007          Dirk Nowitzki          Dirk Nowitzki   \n",
       "28  2007-2008            Kobe Bryant             Chris Paul   \n",
       "29  2008-2009           LeBron James           LeBron James   \n",
       "30  2009-2010           LeBron James           LeBron James   \n",
       "31  2010-2011           Derrick Rose           LeBron James   \n",
       "32  2011-2012           LeBron James           LeBron James   \n",
       "33  2012-2013           LeBron James           LeBron James   \n",
       "34  2013-2014           Kevin Durant           Kevin Durant   \n",
       "35  2014-2015          Stephen Curry           James Harden   \n",
       "36  2015-2016          Stephen Curry          Stephen Curry   \n",
       "37  2016-2017      Russell Westbrook      Russell Westbrook   \n",
       "38  2017-2018           James Harden           James Harden   \n",
       "39  2018-2019  Giannis Antetokounmpo           James Harden   \n",
       "40  2019-2020  Giannis Antetokounmpo  Giannis Antetokounmpo   \n",
       "41  2020-2021           Nikola Jokić           Nikola Jokić   \n",
       "\n",
       "        Predicted MVP kNN  Predicted MVP RandFor      Predicted MVP DNN  \n",
       "0     Kareem Abdul-Jabbar    Kareem Abdul-Jabbar    Kareem Abdul-Jabbar  \n",
       "1           Julius Erving          Julius Erving          Julius Erving  \n",
       "2           Julius Erving          Julius Erving          Julius Erving  \n",
       "3            Moses Malone           Moses Malone           Moses Malone  \n",
       "4              Larry Bird             Larry Bird             Larry Bird  \n",
       "5              Larry Bird             Larry Bird             Larry Bird  \n",
       "6              Larry Bird             Larry Bird             Larry Bird  \n",
       "7              Larry Bird          Magic Johnson             Larry Bird  \n",
       "8          Michael Jordan         Michael Jordan         Michael Jordan  \n",
       "9          Michael Jordan         Michael Jordan         Michael Jordan  \n",
       "10         Michael Jordan          Magic Johnson         Michael Jordan  \n",
       "11         Michael Jordan         Michael Jordan         Michael Jordan  \n",
       "12         Michael Jordan         Michael Jordan         Michael Jordan  \n",
       "13         Michael Jordan         Michael Jordan         Michael Jordan  \n",
       "14         David Robinson         David Robinson         David Robinson  \n",
       "15         David Robinson         David Robinson         David Robinson  \n",
       "16         Michael Jordan         Michael Jordan         Michael Jordan  \n",
       "17         Michael Jordan         Michael Jordan         Michael Jordan  \n",
       "18            Karl Malone            Karl Malone            Karl Malone  \n",
       "19             Tim Duncan            Karl Malone             Tim Duncan  \n",
       "20       Shaquille O'Neal       Shaquille O'Neal       Shaquille O'Neal  \n",
       "21       Shaquille O'Neal       Shaquille O'Neal       Shaquille O'Neal  \n",
       "22             Tim Duncan             Tim Duncan             Tim Duncan  \n",
       "23          Dirk Nowitzki             Tim Duncan          Dirk Nowitzki  \n",
       "24          Kevin Garnett          Kevin Garnett          Kevin Garnett  \n",
       "25          Dirk Nowitzki          Dirk Nowitzki          Dirk Nowitzki  \n",
       "26          Dirk Nowitzki          Dirk Nowitzki          Dirk Nowitzki  \n",
       "27          Dirk Nowitzki          Dirk Nowitzki          Dirk Nowitzki  \n",
       "28            Kobe Bryant             Chris Paul            Kobe Bryant  \n",
       "29           LeBron James           LeBron James           LeBron James  \n",
       "30           LeBron James           LeBron James           LeBron James  \n",
       "31           LeBron James           LeBron James           LeBron James  \n",
       "32           LeBron James           LeBron James           LeBron James  \n",
       "33           LeBron James           LeBron James           LeBron James  \n",
       "34           Kevin Durant           Kevin Durant           Kevin Durant  \n",
       "35          Stephen Curry          Stephen Curry          Stephen Curry  \n",
       "36          Stephen Curry          Stephen Curry          Stephen Curry  \n",
       "37           James Harden          Kawhi Leonard           James Harden  \n",
       "38           James Harden           James Harden           James Harden  \n",
       "39  Giannis Antetokounmpo  Giannis Antetokounmpo  Giannis Antetokounmpo  \n",
       "40  Giannis Antetokounmpo  Giannis Antetokounmpo  Giannis Antetokounmpo  \n",
       "41           Nikola Jokić           Nikola Jokić           Nikola Jokić  "
      ]
     },
     "execution_count": 172,
     "metadata": {},
     "output_type": "execute_result"
    }
   ],
   "source": [
    "predictions"
   ]
  },
  {
   "cell_type": "code",
   "execution_count": 173,
   "metadata": {},
   "outputs": [],
   "source": [
    "predictions.to_excel('./../academic/predictions.xlsx', index=False)"
   ]
  },
  {
   "cell_type": "code",
   "execution_count": 174,
   "metadata": {},
   "outputs": [],
   "source": [
    "predictions['ok_lin'] = predictions['Actual MVP'] == predictions['Predicted MVP Lin Reg']\n",
    "predictions['ok_kNN'] = predictions['Actual MVP'] == predictions['Predicted MVP kNN']\n",
    "predictions['ok_rf'] = predictions['Actual MVP'] == predictions['Predicted MVP RandFor']\n",
    "predictions['ok_DNN'] = predictions['Actual MVP'] == predictions['Predicted MVP DNN']"
   ]
  },
  {
   "cell_type": "code",
   "execution_count": 175,
   "metadata": {},
   "outputs": [
    {
     "name": "stdout",
     "output_type": "stream",
     "text": [
      "Accuracy of Linear Model through years  : 0.6666666666666666\n",
      "Accuracy of kNN Model through years  : 0.6428571428571429\n",
      "Accuracy of Random Forest Model through years  : 0.7142857142857143\n",
      "Accuracy of DNN Model through years  : 0.6428571428571429\n"
     ]
    }
   ],
   "source": [
    "print(f'Accuracy of Linear Model through years  : {sum(predictions.ok_lin.values)/len(predictions)}')\n",
    "print(f'Accuracy of kNN Model through years  : {sum(predictions.ok_kNN.values)/len(predictions)}')\n",
    "print(f'Accuracy of Random Forest Model through years  : {sum(predictions.ok_rf.values)/len(predictions)}')\n",
    "print(f'Accuracy of DNN Model through years  : {sum(predictions.ok_DNN.values)/len(predictions)}')"
   ]
  }
 ],
 "metadata": {
  "interpreter": {
   "hash": "7e1998ff7f8aa20ada591c520b972326324e5ea05489af9e422744c7c09f6dad"
  },
  "kernelspec": {
   "display_name": "Python 3.10.2 64-bit",
   "language": "python",
   "name": "python3"
  },
  "language_info": {
   "codemirror_mode": {
    "name": "ipython",
    "version": 3
   },
   "file_extension": ".py",
   "mimetype": "text/x-python",
   "name": "python",
   "nbconvert_exporter": "python",
   "pygments_lexer": "ipython3",
   "version": "3.10.2"
  },
  "orig_nbformat": 4
 },
 "nbformat": 4,
 "nbformat_minor": 2
}
